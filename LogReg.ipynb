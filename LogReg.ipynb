{
 "cells": [
  {
   "cell_type": "markdown",
   "metadata": {},
   "source": [
    "## Regression Analysis for Placement"
   ]
  },
  {
   "cell_type": "code",
   "execution_count": 1,
   "metadata": {},
   "outputs": [],
   "source": [
    "import numpy as np\n",
    "import pandas as pd\n",
    "import matplotlib.pyplot as plt\n",
    "import seaborn as sns"
   ]
  },
  {
   "cell_type": "code",
   "execution_count": 2,
   "metadata": {},
   "outputs": [],
   "source": [
    "from sklearn.preprocessing import MinMaxScaler\n",
    "from sklearn.linear_model import LinearRegression\n",
    "import statsmodels.api as sm\n",
    "from sklearn.metrics import mean_absolute_error, r2_score"
   ]
  },
  {
   "cell_type": "code",
   "execution_count": 3,
   "metadata": {},
   "outputs": [],
   "source": [
    "data1=pd.read_csv(\"C:/Users/Richa/Desktop/rawData1.csv\")\n",
    "data2=data1.copy()"
   ]
  },
  {
   "cell_type": "code",
   "execution_count": 4,
   "metadata": {},
   "outputs": [],
   "source": [
    "data2.drop([\"sl_no\",\"salary\"], axis=1, inplace=True)"
   ]
  },
  {
   "cell_type": "code",
   "execution_count": 5,
   "metadata": {},
   "outputs": [
    {
     "data": {
      "text/html": [
       "<div>\n",
       "<style scoped>\n",
       "    .dataframe tbody tr th:only-of-type {\n",
       "        vertical-align: middle;\n",
       "    }\n",
       "\n",
       "    .dataframe tbody tr th {\n",
       "        vertical-align: top;\n",
       "    }\n",
       "\n",
       "    .dataframe thead th {\n",
       "        text-align: right;\n",
       "    }\n",
       "</style>\n",
       "<table border=\"1\" class=\"dataframe\">\n",
       "  <thead>\n",
       "    <tr style=\"text-align: right;\">\n",
       "      <th></th>\n",
       "      <th>ssc_p</th>\n",
       "      <th>hsc_p</th>\n",
       "      <th>hsc_s</th>\n",
       "      <th>degree_p</th>\n",
       "      <th>degree_t</th>\n",
       "      <th>etest_p</th>\n",
       "      <th>mba_p</th>\n",
       "      <th>Male?</th>\n",
       "      <th>Placed?</th>\n",
       "      <th>Experience?</th>\n",
       "      <th>HSCentralBoard?</th>\n",
       "      <th>SpecialisationInHR?</th>\n",
       "      <th>SSCentralBoard?</th>\n",
       "    </tr>\n",
       "  </thead>\n",
       "  <tbody>\n",
       "    <tr>\n",
       "      <th>0</th>\n",
       "      <td>67.00</td>\n",
       "      <td>91.00</td>\n",
       "      <td>1</td>\n",
       "      <td>58.00</td>\n",
       "      <td>2</td>\n",
       "      <td>55.0</td>\n",
       "      <td>58.80</td>\n",
       "      <td>1.0</td>\n",
       "      <td>1.0</td>\n",
       "      <td>0.0</td>\n",
       "      <td>0.0</td>\n",
       "      <td>1.0</td>\n",
       "      <td>0.0</td>\n",
       "    </tr>\n",
       "    <tr>\n",
       "      <th>1</th>\n",
       "      <td>79.33</td>\n",
       "      <td>78.33</td>\n",
       "      <td>2</td>\n",
       "      <td>77.48</td>\n",
       "      <td>2</td>\n",
       "      <td>86.5</td>\n",
       "      <td>66.28</td>\n",
       "      <td>1.0</td>\n",
       "      <td>1.0</td>\n",
       "      <td>1.0</td>\n",
       "      <td>0.0</td>\n",
       "      <td>0.0</td>\n",
       "      <td>1.0</td>\n",
       "    </tr>\n",
       "    <tr>\n",
       "      <th>2</th>\n",
       "      <td>65.00</td>\n",
       "      <td>68.00</td>\n",
       "      <td>0</td>\n",
       "      <td>64.00</td>\n",
       "      <td>0</td>\n",
       "      <td>75.0</td>\n",
       "      <td>57.80</td>\n",
       "      <td>1.0</td>\n",
       "      <td>1.0</td>\n",
       "      <td>0.0</td>\n",
       "      <td>1.0</td>\n",
       "      <td>0.0</td>\n",
       "      <td>1.0</td>\n",
       "    </tr>\n",
       "    <tr>\n",
       "      <th>3</th>\n",
       "      <td>56.00</td>\n",
       "      <td>52.00</td>\n",
       "      <td>2</td>\n",
       "      <td>52.00</td>\n",
       "      <td>2</td>\n",
       "      <td>66.0</td>\n",
       "      <td>59.43</td>\n",
       "      <td>1.0</td>\n",
       "      <td>0.0</td>\n",
       "      <td>0.0</td>\n",
       "      <td>1.0</td>\n",
       "      <td>1.0</td>\n",
       "      <td>1.0</td>\n",
       "    </tr>\n",
       "    <tr>\n",
       "      <th>4</th>\n",
       "      <td>85.80</td>\n",
       "      <td>73.60</td>\n",
       "      <td>1</td>\n",
       "      <td>73.30</td>\n",
       "      <td>0</td>\n",
       "      <td>96.8</td>\n",
       "      <td>55.50</td>\n",
       "      <td>1.0</td>\n",
       "      <td>1.0</td>\n",
       "      <td>0.0</td>\n",
       "      <td>1.0</td>\n",
       "      <td>0.0</td>\n",
       "      <td>1.0</td>\n",
       "    </tr>\n",
       "  </tbody>\n",
       "</table>\n",
       "</div>"
      ],
      "text/plain": [
       "   ssc_p  hsc_p  hsc_s  degree_p  degree_t  etest_p  mba_p  Male?  Placed?  \\\n",
       "0  67.00  91.00      1     58.00         2     55.0  58.80    1.0      1.0   \n",
       "1  79.33  78.33      2     77.48         2     86.5  66.28    1.0      1.0   \n",
       "2  65.00  68.00      0     64.00         0     75.0  57.80    1.0      1.0   \n",
       "3  56.00  52.00      2     52.00         2     66.0  59.43    1.0      0.0   \n",
       "4  85.80  73.60      1     73.30         0     96.8  55.50    1.0      1.0   \n",
       "\n",
       "   Experience?  HSCentralBoard?  SpecialisationInHR?  SSCentralBoard?  \n",
       "0          0.0              0.0                  1.0              0.0  \n",
       "1          1.0              0.0                  0.0              1.0  \n",
       "2          0.0              1.0                  0.0              1.0  \n",
       "3          0.0              1.0                  1.0              1.0  \n",
       "4          0.0              1.0                  0.0              1.0  "
      ]
     },
     "execution_count": 5,
     "metadata": {},
     "output_type": "execute_result"
    }
   ],
   "source": [
    "data2.head()"
   ]
  },
  {
   "cell_type": "code",
   "execution_count": 6,
   "metadata": {},
   "outputs": [],
   "source": [
    "x2=data2.drop(\"Placed?\",axis=1)\n",
    "y2=data2['Placed?']"
   ]
  },
  {
   "cell_type": "code",
   "execution_count": 7,
   "metadata": {},
   "outputs": [],
   "source": [
    "column_names = x2.columns.values"
   ]
  },
  {
   "cell_type": "code",
   "execution_count": 8,
   "metadata": {},
   "outputs": [],
   "source": [
    "#Scalizing between 0-1 (Normalization)\n",
    "x2_scaled = MinMaxScaler().fit_transform(x2)"
   ]
  },
  {
   "cell_type": "markdown",
   "metadata": {},
   "source": [
    "#### 1. Determining Least Significant Variable by R2 Score"
   ]
  },
  {
   "cell_type": "code",
   "execution_count": 9,
   "metadata": {},
   "outputs": [
    {
     "name": "stdout",
     "output_type": "stream",
     "text": [
      "Requirement already satisfied: mlxtend in c:\\users\\richa\\anaconda3\\lib\\site-packages (0.17.2)\n",
      "Requirement already satisfied: scikit-learn>=0.20.3 in c:\\users\\richa\\anaconda3\\lib\\site-packages (from mlxtend) (0.22.1)\n",
      "Requirement already satisfied: pandas>=0.24.2 in c:\\users\\richa\\anaconda3\\lib\\site-packages (from mlxtend) (1.0.1)\n",
      "Requirement already satisfied: matplotlib>=3.0.0 in c:\\users\\richa\\anaconda3\\lib\\site-packages (from mlxtend) (3.1.3)\n",
      "Requirement already satisfied: joblib>=0.13.2 in c:\\users\\richa\\anaconda3\\lib\\site-packages (from mlxtend) (0.14.1)\n",
      "Requirement already satisfied: setuptools in c:\\users\\richa\\anaconda3\\lib\\site-packages (from mlxtend) (45.2.0.post20200210)\n",
      "Requirement already satisfied: scipy>=1.2.1 in c:\\users\\richa\\anaconda3\\lib\\site-packages (from mlxtend) (1.4.1)\n",
      "Requirement already satisfied: numpy>=1.16.2 in c:\\users\\richa\\anaconda3\\lib\\site-packages (from mlxtend) (1.18.1)\n",
      "Requirement already satisfied: python-dateutil>=2.6.1 in c:\\users\\richa\\anaconda3\\lib\\site-packages (from pandas>=0.24.2->mlxtend) (2.8.1)\n",
      "Requirement already satisfied: pytz>=2017.2 in c:\\users\\richa\\anaconda3\\lib\\site-packages (from pandas>=0.24.2->mlxtend) (2019.3)\n",
      "Requirement already satisfied: cycler>=0.10 in c:\\users\\richa\\anaconda3\\lib\\site-packages (from matplotlib>=3.0.0->mlxtend) (0.10.0)\n",
      "Requirement already satisfied: pyparsing!=2.0.4,!=2.1.2,!=2.1.6,>=2.0.1 in c:\\users\\richa\\anaconda3\\lib\\site-packages (from matplotlib>=3.0.0->mlxtend) (2.4.6)\n",
      "Requirement already satisfied: kiwisolver>=1.0.1 in c:\\users\\richa\\anaconda3\\lib\\site-packages (from matplotlib>=3.0.0->mlxtend) (1.1.0)\n",
      "Requirement already satisfied: six>=1.5 in c:\\users\\richa\\anaconda3\\lib\\site-packages (from python-dateutil>=2.6.1->pandas>=0.24.2->mlxtend) (1.14.0)\n",
      "Note: you may need to restart the kernel to use updated packages.\n"
     ]
    }
   ],
   "source": [
    "pip install mlxtend "
   ]
  },
  {
   "cell_type": "code",
   "execution_count": 10,
   "metadata": {},
   "outputs": [],
   "source": [
    "from mlxtend.feature_selection import SequentialFeatureSelector as SFS\n",
    "from mlxtend.plotting import plot_sequential_feature_selection as plot_sfs"
   ]
  },
  {
   "cell_type": "code",
   "execution_count": 11,
   "metadata": {},
   "outputs": [
    {
     "data": {
      "image/png": "[encoded data removed]",
      "text/plain": [
       "<Figure size 432x288 with 1 Axes>"
      ]
     },
     "metadata": {
      "needs_background": "light"
     },
     "output_type": "display_data"
    }
   ],
   "source": [
    "linreg = LinearRegression()\n",
    "sfs = SFS(linreg, k_features=1, forward=False, scoring='r2',cv=10)\n",
    "sfs = sfs.fit(x2_scaled, y2)\n",
    "fig = plot_sfs(sfs.get_metric_dict(), kind='std_err')\n",
    "\n",
    "plt.title('Sequential Backward Elimination')\n",
    "plt.grid()\n",
    "plt.show()"
   ]
  },
  {
   "cell_type": "markdown",
   "metadata": {},
   "source": [
    "###### Lets see the top 5 most significant features"
   ]
  },
  {
   "cell_type": "code",
   "execution_count": 12,
   "metadata": {},
   "outputs": [
    {
     "data": {
      "text/plain": [
       "{'feature_idx': (0, 1, 3, 6, 8),\n",
       " 'cv_scores': array([0.38745021, 0.54401845, 0.44077837, 0.33114989, 0.57567287,\n",
       "        0.48312706, 0.63879949, 0.46329752, 0.3948886 , 0.58193054]),\n",
       " 'avg_score': 0.4841112998192629,\n",
       " 'feature_names': ('0', '1', '3', '6', '8'),\n",
       " 'ci_bound': 0.06986343473229474,\n",
       " 'std_dev': 0.09406518988349936,\n",
       " 'std_err': 0.03135506329449979}"
      ]
     },
     "execution_count": 12,
     "metadata": {},
     "output_type": "execute_result"
    }
   ],
   "source": [
    "top_n = 5\n",
    "sfs.get_metric_dict()[top_n]"
   ]
  },
  {
   "cell_type": "code",
   "execution_count": 13,
   "metadata": {},
   "outputs": [
    {
     "name": "stdout",
     "output_type": "stream",
     "text": [
      "Most Significant 5 Features:\n",
      "ssc_p\n",
      "hsc_p\n",
      "degree_p\n",
      "mba_p\n",
      "Experience?\n"
     ]
    }
   ],
   "source": [
    "#Top N Features\n",
    "top_n_indices = list(sfs.get_metric_dict()[top_n]['feature_idx'])\n",
    "print(f\"Most Significant {top_n} Features:\")\n",
    "for col in column_names[top_n_indices]:\n",
    "    print(col)"
   ]
  },
  {
   "cell_type": "markdown",
   "metadata": {},
   "source": [
    "#### 2. Determining Least Significant Variable by P-Value"
   ]
  },
  {
   "cell_type": "code",
   "execution_count": 14,
   "metadata": {},
   "outputs": [
    {
     "data": {
      "text/html": [
       "<div>\n",
       "<style scoped>\n",
       "    .dataframe tbody tr th:only-of-type {\n",
       "        vertical-align: middle;\n",
       "    }\n",
       "\n",
       "    .dataframe tbody tr th {\n",
       "        vertical-align: top;\n",
       "    }\n",
       "\n",
       "    .dataframe thead th {\n",
       "        text-align: right;\n",
       "    }\n",
       "</style>\n",
       "<table border=\"1\" class=\"dataframe\">\n",
       "  <thead>\n",
       "    <tr style=\"text-align: right;\">\n",
       "      <th></th>\n",
       "      <th>const</th>\n",
       "      <th>ssc_p</th>\n",
       "      <th>hsc_p</th>\n",
       "      <th>hsc_s</th>\n",
       "      <th>degree_p</th>\n",
       "      <th>degree_t</th>\n",
       "      <th>etest_p</th>\n",
       "      <th>mba_p</th>\n",
       "      <th>Male?</th>\n",
       "      <th>Experience?</th>\n",
       "      <th>HSCentralBoard?</th>\n",
       "      <th>SpecialisationInHR?</th>\n",
       "      <th>SSCentralBoard?</th>\n",
       "    </tr>\n",
       "  </thead>\n",
       "  <tbody>\n",
       "    <tr>\n",
       "      <th>0</th>\n",
       "      <td>1.0</td>\n",
       "      <td>0.538240</td>\n",
       "      <td>0.889621</td>\n",
       "      <td>0.5</td>\n",
       "      <td>0.195122</td>\n",
       "      <td>1.0</td>\n",
       "      <td>0.104167</td>\n",
       "      <td>0.284483</td>\n",
       "      <td>1.0</td>\n",
       "      <td>0.0</td>\n",
       "      <td>0.0</td>\n",
       "      <td>1.0</td>\n",
       "      <td>0.0</td>\n",
       "    </tr>\n",
       "    <tr>\n",
       "      <th>1</th>\n",
       "      <td>1.0</td>\n",
       "      <td>0.792414</td>\n",
       "      <td>0.680890</td>\n",
       "      <td>1.0</td>\n",
       "      <td>0.670244</td>\n",
       "      <td>1.0</td>\n",
       "      <td>0.760417</td>\n",
       "      <td>0.564843</td>\n",
       "      <td>1.0</td>\n",
       "      <td>1.0</td>\n",
       "      <td>0.0</td>\n",
       "      <td>0.0</td>\n",
       "      <td>1.0</td>\n",
       "    </tr>\n",
       "    <tr>\n",
       "      <th>2</th>\n",
       "      <td>1.0</td>\n",
       "      <td>0.497011</td>\n",
       "      <td>0.510708</td>\n",
       "      <td>0.0</td>\n",
       "      <td>0.341463</td>\n",
       "      <td>0.0</td>\n",
       "      <td>0.520833</td>\n",
       "      <td>0.247001</td>\n",
       "      <td>1.0</td>\n",
       "      <td>0.0</td>\n",
       "      <td>1.0</td>\n",
       "      <td>0.0</td>\n",
       "      <td>1.0</td>\n",
       "    </tr>\n",
       "    <tr>\n",
       "      <th>3</th>\n",
       "      <td>1.0</td>\n",
       "      <td>0.311482</td>\n",
       "      <td>0.247117</td>\n",
       "      <td>1.0</td>\n",
       "      <td>0.048780</td>\n",
       "      <td>1.0</td>\n",
       "      <td>0.333333</td>\n",
       "      <td>0.308096</td>\n",
       "      <td>1.0</td>\n",
       "      <td>0.0</td>\n",
       "      <td>1.0</td>\n",
       "      <td>1.0</td>\n",
       "      <td>1.0</td>\n",
       "    </tr>\n",
       "    <tr>\n",
       "      <th>4</th>\n",
       "      <td>1.0</td>\n",
       "      <td>0.925788</td>\n",
       "      <td>0.602965</td>\n",
       "      <td>0.5</td>\n",
       "      <td>0.568293</td>\n",
       "      <td>0.0</td>\n",
       "      <td>0.975000</td>\n",
       "      <td>0.160795</td>\n",
       "      <td>1.0</td>\n",
       "      <td>0.0</td>\n",
       "      <td>1.0</td>\n",
       "      <td>0.0</td>\n",
       "      <td>1.0</td>\n",
       "    </tr>\n",
       "  </tbody>\n",
       "</table>\n",
       "</div>"
      ],
      "text/plain": [
       "   const     ssc_p     hsc_p  hsc_s  degree_p  degree_t   etest_p     mba_p  \\\n",
       "0    1.0  0.538240  0.889621    0.5  0.195122       1.0  0.104167  0.284483   \n",
       "1    1.0  0.792414  0.680890    1.0  0.670244       1.0  0.760417  0.564843   \n",
       "2    1.0  0.497011  0.510708    0.0  0.341463       0.0  0.520833  0.247001   \n",
       "3    1.0  0.311482  0.247117    1.0  0.048780       1.0  0.333333  0.308096   \n",
       "4    1.0  0.925788  0.602965    0.5  0.568293       0.0  0.975000  0.160795   \n",
       "\n",
       "   Male?  Experience?  HSCentralBoard?  SpecialisationInHR?  SSCentralBoard?  \n",
       "0    1.0          0.0              0.0                  1.0              0.0  \n",
       "1    1.0          1.0              0.0                  0.0              1.0  \n",
       "2    1.0          0.0              1.0                  0.0              1.0  \n",
       "3    1.0          0.0              1.0                  1.0              1.0  \n",
       "4    1.0          0.0              1.0                  0.0              1.0  "
      ]
     },
     "execution_count": 14,
     "metadata": {},
     "output_type": "execute_result"
    }
   ],
   "source": [
    "#Converting to DF for as  column names gives readibility\n",
    "x2_scaled = pd.DataFrame(x2_scaled, columns=column_names)\n",
    "y2 = y2.values\n",
    "\n",
    "# We must add a constants 1s for intercept before doing Linear Regression with statsmodel\n",
    "x2_scaled = sm.add_constant(x2_scaled)\n",
    "x2_scaled.head()\n",
    "#Constants 1 added for intercept term"
   ]
  },
  {
   "cell_type": "code",
   "execution_count": 15,
   "metadata": {},
   "outputs": [
    {
     "data": {
      "text/html": [
       "<table class=\"simpletable\">\n",
       "<caption>OLS Regression Results</caption>\n",
       "<tr>\n",
       "  <th>Dep. Variable:</th>            <td>y</td>        <th>  R-squared:         </th> <td>   0.555</td>\n",
       "</tr>\n",
       "<tr>\n",
       "  <th>Model:</th>                   <td>OLS</td>       <th>  Adj. R-squared:    </th> <td>   0.529</td>\n",
       "</tr>\n",
       "<tr>\n",
       "  <th>Method:</th>             <td>Least Squares</td>  <th>  F-statistic:       </th> <td>   21.03</td>\n",
       "</tr>\n",
       "<tr>\n",
       "  <th>Date:</th>             <td>Fri, 10 Jul 2020</td> <th>  Prob (F-statistic):</th> <td>1.56e-29</td>\n",
       "</tr>\n",
       "<tr>\n",
       "  <th>Time:</th>                 <td>00:47:15</td>     <th>  Log-Likelihood:    </th> <td> -52.459</td>\n",
       "</tr>\n",
       "<tr>\n",
       "  <th>No. Observations:</th>      <td>   215</td>      <th>  AIC:               </th> <td>   130.9</td>\n",
       "</tr>\n",
       "<tr>\n",
       "  <th>Df Residuals:</th>          <td>   202</td>      <th>  BIC:               </th> <td>   174.7</td>\n",
       "</tr>\n",
       "<tr>\n",
       "  <th>Df Model:</th>              <td>    12</td>      <th>                     </th>     <td> </td>   \n",
       "</tr>\n",
       "<tr>\n",
       "  <th>Covariance Type:</th>      <td>nonrobust</td>    <th>                     </th>     <td> </td>   \n",
       "</tr>\n",
       "</table>\n",
       "<table class=\"simpletable\">\n",
       "<tr>\n",
       "           <td></td>              <th>coef</th>     <th>std err</th>      <th>t</th>      <th>P>|t|</th>  <th>[0.025</th>    <th>0.975]</th>  \n",
       "</tr>\n",
       "<tr>\n",
       "  <th>const</th>               <td>   -0.1388</td> <td>    0.111</td> <td>   -1.253</td> <td> 0.212</td> <td>   -0.357</td> <td>    0.080</td>\n",
       "</tr>\n",
       "<tr>\n",
       "  <th>ssc_p</th>               <td>    0.9627</td> <td>    0.138</td> <td>    6.975</td> <td> 0.000</td> <td>    0.691</td> <td>    1.235</td>\n",
       "</tr>\n",
       "<tr>\n",
       "  <th>hsc_p</th>               <td>    0.5828</td> <td>    0.165</td> <td>    3.525</td> <td> 0.001</td> <td>    0.257</td> <td>    0.909</td>\n",
       "</tr>\n",
       "<tr>\n",
       "  <th>hsc_s</th>               <td>    0.0345</td> <td>    0.104</td> <td>    0.332</td> <td> 0.740</td> <td>   -0.171</td> <td>    0.240</td>\n",
       "</tr>\n",
       "<tr>\n",
       "  <th>degree_p</th>            <td>    0.6283</td> <td>    0.155</td> <td>    4.043</td> <td> 0.000</td> <td>    0.322</td> <td>    0.935</td>\n",
       "</tr>\n",
       "<tr>\n",
       "  <th>degree_t</th>            <td>   -0.1257</td> <td>    0.063</td> <td>   -1.997</td> <td> 0.047</td> <td>   -0.250</td> <td>   -0.002</td>\n",
       "</tr>\n",
       "<tr>\n",
       "  <th>etest_p</th>             <td>   -0.1224</td> <td>    0.086</td> <td>   -1.426</td> <td> 0.155</td> <td>   -0.291</td> <td>    0.047</td>\n",
       "</tr>\n",
       "<tr>\n",
       "  <th>mba_p</th>               <td>   -0.5615</td> <td>    0.122</td> <td>   -4.615</td> <td> 0.000</td> <td>   -0.801</td> <td>   -0.322</td>\n",
       "</tr>\n",
       "<tr>\n",
       "  <th>Male?</th>               <td>    0.0801</td> <td>    0.050</td> <td>    1.592</td> <td> 0.113</td> <td>   -0.019</td> <td>    0.179</td>\n",
       "</tr>\n",
       "<tr>\n",
       "  <th>Experience?</th>         <td>    0.1773</td> <td>    0.048</td> <td>    3.661</td> <td> 0.000</td> <td>    0.082</td> <td>    0.273</td>\n",
       "</tr>\n",
       "<tr>\n",
       "  <th>HSCentralBoard?</th>     <td>    0.0480</td> <td>    0.058</td> <td>    0.822</td> <td> 0.412</td> <td>   -0.067</td> <td>    0.163</td>\n",
       "</tr>\n",
       "<tr>\n",
       "  <th>SpecialisationInHR?</th> <td>   -0.0511</td> <td>    0.048</td> <td>   -1.055</td> <td> 0.293</td> <td>   -0.147</td> <td>    0.044</td>\n",
       "</tr>\n",
       "<tr>\n",
       "  <th>SSCentralBoard?</th>     <td>   -0.0654</td> <td>    0.059</td> <td>   -1.112</td> <td> 0.267</td> <td>   -0.181</td> <td>    0.051</td>\n",
       "</tr>\n",
       "</table>\n",
       "<table class=\"simpletable\">\n",
       "<tr>\n",
       "  <th>Omnibus:</th>       <td> 2.860</td> <th>  Durbin-Watson:     </th> <td>   1.999</td>\n",
       "</tr>\n",
       "<tr>\n",
       "  <th>Prob(Omnibus):</th> <td> 0.239</td> <th>  Jarque-Bera (JB):  </th> <td>   2.442</td>\n",
       "</tr>\n",
       "<tr>\n",
       "  <th>Skew:</th>          <td>-0.156</td> <th>  Prob(JB):          </th> <td>   0.295</td>\n",
       "</tr>\n",
       "<tr>\n",
       "  <th>Kurtosis:</th>      <td> 2.581</td> <th>  Cond. No.          </th> <td>    17.8</td>\n",
       "</tr>\n",
       "</table><br/><br/>Warnings:<br/>[1] Standard Errors assume that the covariance matrix of the errors is correctly specified."
      ],
      "text/plain": [
       "<class 'statsmodels.iolib.summary.Summary'>\n",
       "\"\"\"\n",
       "                            OLS Regression Results                            \n",
       "==============================================================================\n",
       "Dep. Variable:                      y   R-squared:                       0.555\n",
       "Model:                            OLS   Adj. R-squared:                  0.529\n",
       "Method:                 Least Squares   F-statistic:                     21.03\n",
       "Date:                Fri, 10 Jul 2020   Prob (F-statistic):           1.56e-29\n",
       "Time:                        00:47:15   Log-Likelihood:                -52.459\n",
       "No. Observations:                 215   AIC:                             130.9\n",
       "Df Residuals:                     202   BIC:                             174.7\n",
       "Df Model:                          12                                         \n",
       "Covariance Type:            nonrobust                                         \n",
       "=======================================================================================\n",
       "                          coef    std err          t      P>|t|      [0.025      0.975]\n",
       "---------------------------------------------------------------------------------------\n",
       "const                  -0.1388      0.111     -1.253      0.212      -0.357       0.080\n",
       "ssc_p                   0.9627      0.138      6.975      0.000       0.691       1.235\n",
       "hsc_p                   0.5828      0.165      3.525      0.001       0.257       0.909\n",
       "hsc_s                   0.0345      0.104      0.332      0.740      -0.171       0.240\n",
       "degree_p                0.6283      0.155      4.043      0.000       0.322       0.935\n",
       "degree_t               -0.1257      0.063     -1.997      0.047      -0.250      -0.002\n",
       "etest_p                -0.1224      0.086     -1.426      0.155      -0.291       0.047\n",
       "mba_p                  -0.5615      0.122     -4.615      0.000      -0.801      -0.322\n",
       "Male?                   0.0801      0.050      1.592      0.113      -0.019       0.179\n",
       "Experience?             0.1773      0.048      3.661      0.000       0.082       0.273\n",
       "HSCentralBoard?         0.0480      0.058      0.822      0.412      -0.067       0.163\n",
       "SpecialisationInHR?    -0.0511      0.048     -1.055      0.293      -0.147       0.044\n",
       "SSCentralBoard?        -0.0654      0.059     -1.112      0.267      -0.181       0.051\n",
       "==============================================================================\n",
       "Omnibus:                        2.860   Durbin-Watson:                   1.999\n",
       "Prob(Omnibus):                  0.239   Jarque-Bera (JB):                2.442\n",
       "Skew:                          -0.156   Prob(JB):                        0.295\n",
       "Kurtosis:                       2.581   Cond. No.                         17.8\n",
       "==============================================================================\n",
       "\n",
       "Warnings:\n",
       "[1] Standard Errors assume that the covariance matrix of the errors is correctly specified.\n",
       "\"\"\""
      ]
     },
     "execution_count": 15,
     "metadata": {},
     "output_type": "execute_result"
    }
   ],
   "source": [
    "model2 = sm.OLS(y2, x2_scaled)\n",
    "results = model2.fit()\n",
    "results.summary()"
   ]
  },
  {
   "cell_type": "code",
   "execution_count": 16,
   "metadata": {},
   "outputs": [
    {
     "data": {
      "text/html": [
       "<table class=\"simpletable\">\n",
       "<caption>OLS Regression Results</caption>\n",
       "<tr>\n",
       "  <th>Dep. Variable:</th>            <td>y</td>        <th>  R-squared:         </th> <td>   0.555</td>\n",
       "</tr>\n",
       "<tr>\n",
       "  <th>Model:</th>                   <td>OLS</td>       <th>  Adj. R-squared:    </th> <td>   0.531</td>\n",
       "</tr>\n",
       "<tr>\n",
       "  <th>Method:</th>             <td>Least Squares</td>  <th>  F-statistic:       </th> <td>   23.03</td>\n",
       "</tr>\n",
       "<tr>\n",
       "  <th>Date:</th>             <td>Fri, 10 Jul 2020</td> <th>  Prob (F-statistic):</th> <td>3.34e-30</td>\n",
       "</tr>\n",
       "<tr>\n",
       "  <th>Time:</th>                 <td>00:47:15</td>     <th>  Log-Likelihood:    </th> <td> -52.518</td>\n",
       "</tr>\n",
       "<tr>\n",
       "  <th>No. Observations:</th>      <td>   215</td>      <th>  AIC:               </th> <td>   129.0</td>\n",
       "</tr>\n",
       "<tr>\n",
       "  <th>Df Residuals:</th>          <td>   203</td>      <th>  BIC:               </th> <td>   169.5</td>\n",
       "</tr>\n",
       "<tr>\n",
       "  <th>Df Model:</th>              <td>    11</td>      <th>                     </th>     <td> </td>   \n",
       "</tr>\n",
       "<tr>\n",
       "  <th>Covariance Type:</th>      <td>nonrobust</td>    <th>                     </th>     <td> </td>   \n",
       "</tr>\n",
       "</table>\n",
       "<table class=\"simpletable\">\n",
       "<tr>\n",
       "           <td></td>              <th>coef</th>     <th>std err</th>      <th>t</th>      <th>P>|t|</th>  <th>[0.025</th>    <th>0.975]</th>  \n",
       "</tr>\n",
       "<tr>\n",
       "  <th>const</th>               <td>   -0.1221</td> <td>    0.099</td> <td>   -1.239</td> <td> 0.217</td> <td>   -0.316</td> <td>    0.072</td>\n",
       "</tr>\n",
       "<tr>\n",
       "  <th>ssc_p</th>               <td>    0.9742</td> <td>    0.133</td> <td>    7.303</td> <td> 0.000</td> <td>    0.711</td> <td>    1.237</td>\n",
       "</tr>\n",
       "<tr>\n",
       "  <th>hsc_p</th>               <td>    0.5667</td> <td>    0.158</td> <td>    3.593</td> <td> 0.000</td> <td>    0.256</td> <td>    0.878</td>\n",
       "</tr>\n",
       "<tr>\n",
       "  <th>degree_p</th>            <td>    0.6354</td> <td>    0.154</td> <td>    4.136</td> <td> 0.000</td> <td>    0.332</td> <td>    0.938</td>\n",
       "</tr>\n",
       "<tr>\n",
       "  <th>degree_t</th>            <td>   -0.1141</td> <td>    0.052</td> <td>   -2.182</td> <td> 0.030</td> <td>   -0.217</td> <td>   -0.011</td>\n",
       "</tr>\n",
       "<tr>\n",
       "  <th>etest_p</th>             <td>   -0.1198</td> <td>    0.085</td> <td>   -1.405</td> <td> 0.162</td> <td>   -0.288</td> <td>    0.048</td>\n",
       "</tr>\n",
       "<tr>\n",
       "  <th>mba_p</th>               <td>   -0.5635</td> <td>    0.121</td> <td>   -4.647</td> <td> 0.000</td> <td>   -0.803</td> <td>   -0.324</td>\n",
       "</tr>\n",
       "<tr>\n",
       "  <th>Male?</th>               <td>    0.0814</td> <td>    0.050</td> <td>    1.627</td> <td> 0.105</td> <td>   -0.017</td> <td>    0.180</td>\n",
       "</tr>\n",
       "<tr>\n",
       "  <th>Experience?</th>         <td>    0.1760</td> <td>    0.048</td> <td>    3.655</td> <td> 0.000</td> <td>    0.081</td> <td>    0.271</td>\n",
       "</tr>\n",
       "<tr>\n",
       "  <th>HSCentralBoard?</th>     <td>    0.0438</td> <td>    0.057</td> <td>    0.769</td> <td> 0.443</td> <td>   -0.068</td> <td>    0.156</td>\n",
       "</tr>\n",
       "<tr>\n",
       "  <th>SpecialisationInHR?</th> <td>   -0.0485</td> <td>    0.048</td> <td>   -1.017</td> <td> 0.310</td> <td>   -0.143</td> <td>    0.046</td>\n",
       "</tr>\n",
       "<tr>\n",
       "  <th>SSCentralBoard?</th>     <td>   -0.0616</td> <td>    0.058</td> <td>   -1.070</td> <td> 0.286</td> <td>   -0.175</td> <td>    0.052</td>\n",
       "</tr>\n",
       "</table>\n",
       "<table class=\"simpletable\">\n",
       "<tr>\n",
       "  <th>Omnibus:</th>       <td> 3.005</td> <th>  Durbin-Watson:     </th> <td>   1.998</td>\n",
       "</tr>\n",
       "<tr>\n",
       "  <th>Prob(Omnibus):</th> <td> 0.223</td> <th>  Jarque-Bera (JB):  </th> <td>   2.532</td>\n",
       "</tr>\n",
       "<tr>\n",
       "  <th>Skew:</th>          <td>-0.158</td> <th>  Prob(JB):          </th> <td>   0.282</td>\n",
       "</tr>\n",
       "<tr>\n",
       "  <th>Kurtosis:</th>      <td> 2.572</td> <th>  Cond. No.          </th> <td>    15.2</td>\n",
       "</tr>\n",
       "</table><br/><br/>Warnings:<br/>[1] Standard Errors assume that the covariance matrix of the errors is correctly specified."
      ],
      "text/plain": [
       "<class 'statsmodels.iolib.summary.Summary'>\n",
       "\"\"\"\n",
       "                            OLS Regression Results                            \n",
       "==============================================================================\n",
       "Dep. Variable:                      y   R-squared:                       0.555\n",
       "Model:                            OLS   Adj. R-squared:                  0.531\n",
       "Method:                 Least Squares   F-statistic:                     23.03\n",
       "Date:                Fri, 10 Jul 2020   Prob (F-statistic):           3.34e-30\n",
       "Time:                        00:47:15   Log-Likelihood:                -52.518\n",
       "No. Observations:                 215   AIC:                             129.0\n",
       "Df Residuals:                     203   BIC:                             169.5\n",
       "Df Model:                          11                                         \n",
       "Covariance Type:            nonrobust                                         \n",
       "=======================================================================================\n",
       "                          coef    std err          t      P>|t|      [0.025      0.975]\n",
       "---------------------------------------------------------------------------------------\n",
       "const                  -0.1221      0.099     -1.239      0.217      -0.316       0.072\n",
       "ssc_p                   0.9742      0.133      7.303      0.000       0.711       1.237\n",
       "hsc_p                   0.5667      0.158      3.593      0.000       0.256       0.878\n",
       "degree_p                0.6354      0.154      4.136      0.000       0.332       0.938\n",
       "degree_t               -0.1141      0.052     -2.182      0.030      -0.217      -0.011\n",
       "etest_p                -0.1198      0.085     -1.405      0.162      -0.288       0.048\n",
       "mba_p                  -0.5635      0.121     -4.647      0.000      -0.803      -0.324\n",
       "Male?                   0.0814      0.050      1.627      0.105      -0.017       0.180\n",
       "Experience?             0.1760      0.048      3.655      0.000       0.081       0.271\n",
       "HSCentralBoard?         0.0438      0.057      0.769      0.443      -0.068       0.156\n",
       "SpecialisationInHR?    -0.0485      0.048     -1.017      0.310      -0.143       0.046\n",
       "SSCentralBoard?        -0.0616      0.058     -1.070      0.286      -0.175       0.052\n",
       "==============================================================================\n",
       "Omnibus:                        3.005   Durbin-Watson:                   1.998\n",
       "Prob(Omnibus):                  0.223   Jarque-Bera (JB):                2.532\n",
       "Skew:                          -0.158   Prob(JB):                        0.282\n",
       "Kurtosis:                       2.572   Cond. No.                         15.2\n",
       "==============================================================================\n",
       "\n",
       "Warnings:\n",
       "[1] Standard Errors assume that the covariance matrix of the errors is correctly specified.\n",
       "\"\"\""
      ]
     },
     "execution_count": 16,
     "metadata": {},
     "output_type": "execute_result"
    }
   ],
   "source": [
    "x2_scaled = x2_scaled.drop('hsc_s', axis=1)\n",
    "model2 = sm.OLS(y2, x2_scaled)\n",
    "results = model2.fit()\n",
    "results.summary()"
   ]
  },
  {
   "cell_type": "code",
   "execution_count": 17,
   "metadata": {},
   "outputs": [
    {
     "data": {
      "text/html": [
       "<table class=\"simpletable\">\n",
       "<caption>OLS Regression Results</caption>\n",
       "<tr>\n",
       "  <th>Dep. Variable:</th>            <td>y</td>        <th>  R-squared:         </th> <td>   0.554</td>\n",
       "</tr>\n",
       "<tr>\n",
       "  <th>Model:</th>                   <td>OLS</td>       <th>  Adj. R-squared:    </th> <td>   0.532</td>\n",
       "</tr>\n",
       "<tr>\n",
       "  <th>Method:</th>             <td>Least Squares</td>  <th>  F-statistic:       </th> <td>   25.32</td>\n",
       "</tr>\n",
       "<tr>\n",
       "  <th>Date:</th>             <td>Fri, 10 Jul 2020</td> <th>  Prob (F-statistic):</th> <td>8.56e-31</td>\n",
       "</tr>\n",
       "<tr>\n",
       "  <th>Time:</th>                 <td>00:47:15</td>     <th>  Log-Likelihood:    </th> <td> -52.831</td>\n",
       "</tr>\n",
       "<tr>\n",
       "  <th>No. Observations:</th>      <td>   215</td>      <th>  AIC:               </th> <td>   127.7</td>\n",
       "</tr>\n",
       "<tr>\n",
       "  <th>Df Residuals:</th>          <td>   204</td>      <th>  BIC:               </th> <td>   164.7</td>\n",
       "</tr>\n",
       "<tr>\n",
       "  <th>Df Model:</th>              <td>    10</td>      <th>                     </th>     <td> </td>   \n",
       "</tr>\n",
       "<tr>\n",
       "  <th>Covariance Type:</th>      <td>nonrobust</td>    <th>                     </th>     <td> </td>   \n",
       "</tr>\n",
       "</table>\n",
       "<table class=\"simpletable\">\n",
       "<tr>\n",
       "           <td></td>              <th>coef</th>     <th>std err</th>      <th>t</th>      <th>P>|t|</th>  <th>[0.025</th>    <th>0.975]</th>  \n",
       "</tr>\n",
       "<tr>\n",
       "  <th>const</th>               <td>   -0.1097</td> <td>    0.097</td> <td>   -1.129</td> <td> 0.260</td> <td>   -0.301</td> <td>    0.082</td>\n",
       "</tr>\n",
       "<tr>\n",
       "  <th>ssc_p</th>               <td>    0.9831</td> <td>    0.133</td> <td>    7.406</td> <td> 0.000</td> <td>    0.721</td> <td>    1.245</td>\n",
       "</tr>\n",
       "<tr>\n",
       "  <th>hsc_p</th>               <td>    0.5574</td> <td>    0.157</td> <td>    3.548</td> <td> 0.000</td> <td>    0.248</td> <td>    0.867</td>\n",
       "</tr>\n",
       "<tr>\n",
       "  <th>degree_p</th>            <td>    0.6283</td> <td>    0.153</td> <td>    4.102</td> <td> 0.000</td> <td>    0.326</td> <td>    0.930</td>\n",
       "</tr>\n",
       "<tr>\n",
       "  <th>degree_t</th>            <td>   -0.1138</td> <td>    0.052</td> <td>   -2.178</td> <td> 0.031</td> <td>   -0.217</td> <td>   -0.011</td>\n",
       "</tr>\n",
       "<tr>\n",
       "  <th>etest_p</th>             <td>   -0.1234</td> <td>    0.085</td> <td>   -1.451</td> <td> 0.148</td> <td>   -0.291</td> <td>    0.044</td>\n",
       "</tr>\n",
       "<tr>\n",
       "  <th>mba_p</th>               <td>   -0.5666</td> <td>    0.121</td> <td>   -4.680</td> <td> 0.000</td> <td>   -0.805</td> <td>   -0.328</td>\n",
       "</tr>\n",
       "<tr>\n",
       "  <th>Male?</th>               <td>    0.0783</td> <td>    0.050</td> <td>    1.573</td> <td> 0.117</td> <td>   -0.020</td> <td>    0.177</td>\n",
       "</tr>\n",
       "<tr>\n",
       "  <th>Experience?</th>         <td>    0.1731</td> <td>    0.048</td> <td>    3.609</td> <td> 0.000</td> <td>    0.079</td> <td>    0.268</td>\n",
       "</tr>\n",
       "<tr>\n",
       "  <th>SpecialisationInHR?</th> <td>   -0.0522</td> <td>    0.047</td> <td>   -1.100</td> <td> 0.272</td> <td>   -0.146</td> <td>    0.041</td>\n",
       "</tr>\n",
       "<tr>\n",
       "  <th>SSCentralBoard?</th>     <td>   -0.0346</td> <td>    0.046</td> <td>   -0.759</td> <td> 0.449</td> <td>   -0.124</td> <td>    0.055</td>\n",
       "</tr>\n",
       "</table>\n",
       "<table class=\"simpletable\">\n",
       "<tr>\n",
       "  <th>Omnibus:</th>       <td> 4.163</td> <th>  Durbin-Watson:     </th> <td>   2.011</td>\n",
       "</tr>\n",
       "<tr>\n",
       "  <th>Prob(Omnibus):</th> <td> 0.125</td> <th>  Jarque-Bera (JB):  </th> <td>   3.122</td>\n",
       "</tr>\n",
       "<tr>\n",
       "  <th>Skew:</th>          <td>-0.160</td> <th>  Prob(JB):          </th> <td>   0.210</td>\n",
       "</tr>\n",
       "<tr>\n",
       "  <th>Kurtosis:</th>      <td> 2.504</td> <th>  Cond. No.          </th> <td>    14.7</td>\n",
       "</tr>\n",
       "</table><br/><br/>Warnings:<br/>[1] Standard Errors assume that the covariance matrix of the errors is correctly specified."
      ],
      "text/plain": [
       "<class 'statsmodels.iolib.summary.Summary'>\n",
       "\"\"\"\n",
       "                            OLS Regression Results                            \n",
       "==============================================================================\n",
       "Dep. Variable:                      y   R-squared:                       0.554\n",
       "Model:                            OLS   Adj. R-squared:                  0.532\n",
       "Method:                 Least Squares   F-statistic:                     25.32\n",
       "Date:                Fri, 10 Jul 2020   Prob (F-statistic):           8.56e-31\n",
       "Time:                        00:47:15   Log-Likelihood:                -52.831\n",
       "No. Observations:                 215   AIC:                             127.7\n",
       "Df Residuals:                     204   BIC:                             164.7\n",
       "Df Model:                          10                                         \n",
       "Covariance Type:            nonrobust                                         \n",
       "=======================================================================================\n",
       "                          coef    std err          t      P>|t|      [0.025      0.975]\n",
       "---------------------------------------------------------------------------------------\n",
       "const                  -0.1097      0.097     -1.129      0.260      -0.301       0.082\n",
       "ssc_p                   0.9831      0.133      7.406      0.000       0.721       1.245\n",
       "hsc_p                   0.5574      0.157      3.548      0.000       0.248       0.867\n",
       "degree_p                0.6283      0.153      4.102      0.000       0.326       0.930\n",
       "degree_t               -0.1138      0.052     -2.178      0.031      -0.217      -0.011\n",
       "etest_p                -0.1234      0.085     -1.451      0.148      -0.291       0.044\n",
       "mba_p                  -0.5666      0.121     -4.680      0.000      -0.805      -0.328\n",
       "Male?                   0.0783      0.050      1.573      0.117      -0.020       0.177\n",
       "Experience?             0.1731      0.048      3.609      0.000       0.079       0.268\n",
       "SpecialisationInHR?    -0.0522      0.047     -1.100      0.272      -0.146       0.041\n",
       "SSCentralBoard?        -0.0346      0.046     -0.759      0.449      -0.124       0.055\n",
       "==============================================================================\n",
       "Omnibus:                        4.163   Durbin-Watson:                   2.011\n",
       "Prob(Omnibus):                  0.125   Jarque-Bera (JB):                3.122\n",
       "Skew:                          -0.160   Prob(JB):                        0.210\n",
       "Kurtosis:                       2.504   Cond. No.                         14.7\n",
       "==============================================================================\n",
       "\n",
       "Warnings:\n",
       "[1] Standard Errors assume that the covariance matrix of the errors is correctly specified.\n",
       "\"\"\""
      ]
     },
     "execution_count": 17,
     "metadata": {},
     "output_type": "execute_result"
    }
   ],
   "source": [
    "x2_scaled = x2_scaled.drop('HSCentralBoard?', axis=1)\n",
    "model2 = sm.OLS(y2, x2_scaled)\n",
    "results = model2.fit()\n",
    "results.summary()"
   ]
  },
  {
   "cell_type": "code",
   "execution_count": 18,
   "metadata": {},
   "outputs": [
    {
     "data": {
      "text/html": [
       "<table class=\"simpletable\">\n",
       "<caption>OLS Regression Results</caption>\n",
       "<tr>\n",
       "  <th>Dep. Variable:</th>            <td>y</td>        <th>  R-squared:         </th> <td>   0.553</td>\n",
       "</tr>\n",
       "<tr>\n",
       "  <th>Model:</th>                   <td>OLS</td>       <th>  Adj. R-squared:    </th> <td>   0.533</td>\n",
       "</tr>\n",
       "<tr>\n",
       "  <th>Method:</th>             <td>Least Squares</td>  <th>  F-statistic:       </th> <td>   28.13</td>\n",
       "</tr>\n",
       "<tr>\n",
       "  <th>Date:</th>             <td>Fri, 10 Jul 2020</td> <th>  Prob (F-statistic):</th> <td>2.06e-31</td>\n",
       "</tr>\n",
       "<tr>\n",
       "  <th>Time:</th>                 <td>00:47:15</td>     <th>  Log-Likelihood:    </th> <td> -53.134</td>\n",
       "</tr>\n",
       "<tr>\n",
       "  <th>No. Observations:</th>      <td>   215</td>      <th>  AIC:               </th> <td>   126.3</td>\n",
       "</tr>\n",
       "<tr>\n",
       "  <th>Df Residuals:</th>          <td>   205</td>      <th>  BIC:               </th> <td>   160.0</td>\n",
       "</tr>\n",
       "<tr>\n",
       "  <th>Df Model:</th>              <td>     9</td>      <th>                     </th>     <td> </td>   \n",
       "</tr>\n",
       "<tr>\n",
       "  <th>Covariance Type:</th>      <td>nonrobust</td>    <th>                     </th>     <td> </td>   \n",
       "</tr>\n",
       "</table>\n",
       "<table class=\"simpletable\">\n",
       "<tr>\n",
       "           <td></td>              <th>coef</th>     <th>std err</th>      <th>t</th>      <th>P>|t|</th>  <th>[0.025</th>    <th>0.975]</th>  \n",
       "</tr>\n",
       "<tr>\n",
       "  <th>const</th>               <td>   -0.1264</td> <td>    0.094</td> <td>   -1.338</td> <td> 0.182</td> <td>   -0.313</td> <td>    0.060</td>\n",
       "</tr>\n",
       "<tr>\n",
       "  <th>ssc_p</th>               <td>    1.0007</td> <td>    0.131</td> <td>    7.663</td> <td> 0.000</td> <td>    0.743</td> <td>    1.258</td>\n",
       "</tr>\n",
       "<tr>\n",
       "  <th>hsc_p</th>               <td>    0.5290</td> <td>    0.152</td> <td>    3.471</td> <td> 0.001</td> <td>    0.229</td> <td>    0.830</td>\n",
       "</tr>\n",
       "<tr>\n",
       "  <th>degree_p</th>            <td>    0.6287</td> <td>    0.153</td> <td>    4.108</td> <td> 0.000</td> <td>    0.327</td> <td>    0.930</td>\n",
       "</tr>\n",
       "<tr>\n",
       "  <th>degree_t</th>            <td>   -0.1128</td> <td>    0.052</td> <td>   -2.161</td> <td> 0.032</td> <td>   -0.216</td> <td>   -0.010</td>\n",
       "</tr>\n",
       "<tr>\n",
       "  <th>etest_p</th>             <td>   -0.1271</td> <td>    0.085</td> <td>   -1.499</td> <td> 0.135</td> <td>   -0.294</td> <td>    0.040</td>\n",
       "</tr>\n",
       "<tr>\n",
       "  <th>mba_p</th>               <td>   -0.5560</td> <td>    0.120</td> <td>   -4.628</td> <td> 0.000</td> <td>   -0.793</td> <td>   -0.319</td>\n",
       "</tr>\n",
       "<tr>\n",
       "  <th>Male?</th>               <td>    0.0809</td> <td>    0.050</td> <td>    1.629</td> <td> 0.105</td> <td>   -0.017</td> <td>    0.179</td>\n",
       "</tr>\n",
       "<tr>\n",
       "  <th>Experience?</th>         <td>    0.1700</td> <td>    0.048</td> <td>    3.561</td> <td> 0.000</td> <td>    0.076</td> <td>    0.264</td>\n",
       "</tr>\n",
       "<tr>\n",
       "  <th>SpecialisationInHR?</th> <td>   -0.0554</td> <td>    0.047</td> <td>   -1.175</td> <td> 0.241</td> <td>   -0.148</td> <td>    0.038</td>\n",
       "</tr>\n",
       "</table>\n",
       "<table class=\"simpletable\">\n",
       "<tr>\n",
       "  <th>Omnibus:</th>       <td> 3.842</td> <th>  Durbin-Watson:     </th> <td>   2.006</td>\n",
       "</tr>\n",
       "<tr>\n",
       "  <th>Prob(Omnibus):</th> <td> 0.146</td> <th>  Jarque-Bera (JB):  </th> <td>   2.952</td>\n",
       "</tr>\n",
       "<tr>\n",
       "  <th>Skew:</th>          <td>-0.157</td> <th>  Prob(JB):          </th> <td>   0.229</td>\n",
       "</tr>\n",
       "<tr>\n",
       "  <th>Kurtosis:</th>      <td> 2.519</td> <th>  Cond. No.          </th> <td>    13.6</td>\n",
       "</tr>\n",
       "</table><br/><br/>Warnings:<br/>[1] Standard Errors assume that the covariance matrix of the errors is correctly specified."
      ],
      "text/plain": [
       "<class 'statsmodels.iolib.summary.Summary'>\n",
       "\"\"\"\n",
       "                            OLS Regression Results                            \n",
       "==============================================================================\n",
       "Dep. Variable:                      y   R-squared:                       0.553\n",
       "Model:                            OLS   Adj. R-squared:                  0.533\n",
       "Method:                 Least Squares   F-statistic:                     28.13\n",
       "Date:                Fri, 10 Jul 2020   Prob (F-statistic):           2.06e-31\n",
       "Time:                        00:47:15   Log-Likelihood:                -53.134\n",
       "No. Observations:                 215   AIC:                             126.3\n",
       "Df Residuals:                     205   BIC:                             160.0\n",
       "Df Model:                           9                                         \n",
       "Covariance Type:            nonrobust                                         \n",
       "=======================================================================================\n",
       "                          coef    std err          t      P>|t|      [0.025      0.975]\n",
       "---------------------------------------------------------------------------------------\n",
       "const                  -0.1264      0.094     -1.338      0.182      -0.313       0.060\n",
       "ssc_p                   1.0007      0.131      7.663      0.000       0.743       1.258\n",
       "hsc_p                   0.5290      0.152      3.471      0.001       0.229       0.830\n",
       "degree_p                0.6287      0.153      4.108      0.000       0.327       0.930\n",
       "degree_t               -0.1128      0.052     -2.161      0.032      -0.216      -0.010\n",
       "etest_p                -0.1271      0.085     -1.499      0.135      -0.294       0.040\n",
       "mba_p                  -0.5560      0.120     -4.628      0.000      -0.793      -0.319\n",
       "Male?                   0.0809      0.050      1.629      0.105      -0.017       0.179\n",
       "Experience?             0.1700      0.048      3.561      0.000       0.076       0.264\n",
       "SpecialisationInHR?    -0.0554      0.047     -1.175      0.241      -0.148       0.038\n",
       "==============================================================================\n",
       "Omnibus:                        3.842   Durbin-Watson:                   2.006\n",
       "Prob(Omnibus):                  0.146   Jarque-Bera (JB):                2.952\n",
       "Skew:                          -0.157   Prob(JB):                        0.229\n",
       "Kurtosis:                       2.519   Cond. No.                         13.6\n",
       "==============================================================================\n",
       "\n",
       "Warnings:\n",
       "[1] Standard Errors assume that the covariance matrix of the errors is correctly specified.\n",
       "\"\"\""
      ]
     },
     "execution_count": 18,
     "metadata": {},
     "output_type": "execute_result"
    }
   ],
   "source": [
    "x2_scaled = x2_scaled.drop('SSCentralBoard?', axis=1)\n",
    "model2 = sm.OLS(y2, x2_scaled)\n",
    "results = model2.fit()\n",
    "results.summary()"
   ]
  },
  {
   "cell_type": "code",
   "execution_count": 19,
   "metadata": {},
   "outputs": [
    {
     "data": {
      "text/html": [
       "<table class=\"simpletable\">\n",
       "<caption>OLS Regression Results</caption>\n",
       "<tr>\n",
       "  <th>Dep. Variable:</th>            <td>y</td>        <th>  R-squared:         </th> <td>   0.550</td>\n",
       "</tr>\n",
       "<tr>\n",
       "  <th>Model:</th>                   <td>OLS</td>       <th>  Adj. R-squared:    </th> <td>   0.532</td>\n",
       "</tr>\n",
       "<tr>\n",
       "  <th>Method:</th>             <td>Least Squares</td>  <th>  F-statistic:       </th> <td>   31.42</td>\n",
       "</tr>\n",
       "<tr>\n",
       "  <th>Date:</th>             <td>Fri, 10 Jul 2020</td> <th>  Prob (F-statistic):</th> <td>6.93e-32</td>\n",
       "</tr>\n",
       "<tr>\n",
       "  <th>Time:</th>                 <td>00:47:15</td>     <th>  Log-Likelihood:    </th> <td> -53.856</td>\n",
       "</tr>\n",
       "<tr>\n",
       "  <th>No. Observations:</th>      <td>   215</td>      <th>  AIC:               </th> <td>   125.7</td>\n",
       "</tr>\n",
       "<tr>\n",
       "  <th>Df Residuals:</th>          <td>   206</td>      <th>  BIC:               </th> <td>   156.0</td>\n",
       "</tr>\n",
       "<tr>\n",
       "  <th>Df Model:</th>              <td>     8</td>      <th>                     </th>     <td> </td>   \n",
       "</tr>\n",
       "<tr>\n",
       "  <th>Covariance Type:</th>      <td>nonrobust</td>    <th>                     </th>     <td> </td>   \n",
       "</tr>\n",
       "</table>\n",
       "<table class=\"simpletable\">\n",
       "<tr>\n",
       "       <td></td>          <th>coef</th>     <th>std err</th>      <th>t</th>      <th>P>|t|</th>  <th>[0.025</th>    <th>0.975]</th>  \n",
       "</tr>\n",
       "<tr>\n",
       "  <th>const</th>       <td>   -0.1804</td> <td>    0.083</td> <td>   -2.184</td> <td> 0.030</td> <td>   -0.343</td> <td>   -0.018</td>\n",
       "</tr>\n",
       "<tr>\n",
       "  <th>ssc_p</th>       <td>    1.0008</td> <td>    0.131</td> <td>    7.658</td> <td> 0.000</td> <td>    0.743</td> <td>    1.259</td>\n",
       "</tr>\n",
       "<tr>\n",
       "  <th>hsc_p</th>       <td>    0.5463</td> <td>    0.152</td> <td>    3.598</td> <td> 0.000</td> <td>    0.247</td> <td>    0.846</td>\n",
       "</tr>\n",
       "<tr>\n",
       "  <th>degree_p</th>    <td>    0.6509</td> <td>    0.152</td> <td>    4.283</td> <td> 0.000</td> <td>    0.351</td> <td>    0.951</td>\n",
       "</tr>\n",
       "<tr>\n",
       "  <th>degree_t</th>    <td>   -0.1196</td> <td>    0.052</td> <td>   -2.305</td> <td> 0.022</td> <td>   -0.222</td> <td>   -0.017</td>\n",
       "</tr>\n",
       "<tr>\n",
       "  <th>etest_p</th>     <td>   -0.1111</td> <td>    0.084</td> <td>   -1.326</td> <td> 0.186</td> <td>   -0.276</td> <td>    0.054</td>\n",
       "</tr>\n",
       "<tr>\n",
       "  <th>mba_p</th>       <td>   -0.5569</td> <td>    0.120</td> <td>   -4.632</td> <td> 0.000</td> <td>   -0.794</td> <td>   -0.320</td>\n",
       "</tr>\n",
       "<tr>\n",
       "  <th>Male?</th>       <td>    0.0873</td> <td>    0.049</td> <td>    1.768</td> <td> 0.079</td> <td>   -0.010</td> <td>    0.185</td>\n",
       "</tr>\n",
       "<tr>\n",
       "  <th>Experience?</th> <td>    0.1788</td> <td>    0.047</td> <td>    3.788</td> <td> 0.000</td> <td>    0.086</td> <td>    0.272</td>\n",
       "</tr>\n",
       "</table>\n",
       "<table class=\"simpletable\">\n",
       "<tr>\n",
       "  <th>Omnibus:</th>       <td> 4.536</td> <th>  Durbin-Watson:     </th> <td>   2.020</td>\n",
       "</tr>\n",
       "<tr>\n",
       "  <th>Prob(Omnibus):</th> <td> 0.104</td> <th>  Jarque-Bera (JB):  </th> <td>   3.192</td>\n",
       "</tr>\n",
       "<tr>\n",
       "  <th>Skew:</th>          <td>-0.143</td> <th>  Prob(JB):          </th> <td>   0.203</td>\n",
       "</tr>\n",
       "<tr>\n",
       "  <th>Kurtosis:</th>      <td> 2.477</td> <th>  Cond. No.          </th> <td>    13.1</td>\n",
       "</tr>\n",
       "</table><br/><br/>Warnings:<br/>[1] Standard Errors assume that the covariance matrix of the errors is correctly specified."
      ],
      "text/plain": [
       "<class 'statsmodels.iolib.summary.Summary'>\n",
       "\"\"\"\n",
       "                            OLS Regression Results                            \n",
       "==============================================================================\n",
       "Dep. Variable:                      y   R-squared:                       0.550\n",
       "Model:                            OLS   Adj. R-squared:                  0.532\n",
       "Method:                 Least Squares   F-statistic:                     31.42\n",
       "Date:                Fri, 10 Jul 2020   Prob (F-statistic):           6.93e-32\n",
       "Time:                        00:47:15   Log-Likelihood:                -53.856\n",
       "No. Observations:                 215   AIC:                             125.7\n",
       "Df Residuals:                     206   BIC:                             156.0\n",
       "Df Model:                           8                                         \n",
       "Covariance Type:            nonrobust                                         \n",
       "===============================================================================\n",
       "                  coef    std err          t      P>|t|      [0.025      0.975]\n",
       "-------------------------------------------------------------------------------\n",
       "const          -0.1804      0.083     -2.184      0.030      -0.343      -0.018\n",
       "ssc_p           1.0008      0.131      7.658      0.000       0.743       1.259\n",
       "hsc_p           0.5463      0.152      3.598      0.000       0.247       0.846\n",
       "degree_p        0.6509      0.152      4.283      0.000       0.351       0.951\n",
       "degree_t       -0.1196      0.052     -2.305      0.022      -0.222      -0.017\n",
       "etest_p        -0.1111      0.084     -1.326      0.186      -0.276       0.054\n",
       "mba_p          -0.5569      0.120     -4.632      0.000      -0.794      -0.320\n",
       "Male?           0.0873      0.049      1.768      0.079      -0.010       0.185\n",
       "Experience?     0.1788      0.047      3.788      0.000       0.086       0.272\n",
       "==============================================================================\n",
       "Omnibus:                        4.536   Durbin-Watson:                   2.020\n",
       "Prob(Omnibus):                  0.104   Jarque-Bera (JB):                3.192\n",
       "Skew:                          -0.143   Prob(JB):                        0.203\n",
       "Kurtosis:                       2.477   Cond. No.                         13.1\n",
       "==============================================================================\n",
       "\n",
       "Warnings:\n",
       "[1] Standard Errors assume that the covariance matrix of the errors is correctly specified.\n",
       "\"\"\""
      ]
     },
     "execution_count": 19,
     "metadata": {},
     "output_type": "execute_result"
    }
   ],
   "source": [
    "x2_scaled = x2_scaled.drop('SpecialisationInHR?', axis=1)\n",
    "model2 = sm.OLS(y2, x2_scaled)\n",
    "results = model2.fit()\n",
    "results.summary()"
   ]
  },
  {
   "cell_type": "code",
   "execution_count": 20,
   "metadata": {},
   "outputs": [
    {
     "data": {
      "text/html": [
       "<table class=\"simpletable\">\n",
       "<caption>OLS Regression Results</caption>\n",
       "<tr>\n",
       "  <th>Dep. Variable:</th>            <td>y</td>        <th>  R-squared:         </th> <td>   0.546</td>\n",
       "</tr>\n",
       "<tr>\n",
       "  <th>Model:</th>                   <td>OLS</td>       <th>  Adj. R-squared:    </th> <td>   0.530</td>\n",
       "</tr>\n",
       "<tr>\n",
       "  <th>Method:</th>             <td>Least Squares</td>  <th>  F-statistic:       </th> <td>   35.52</td>\n",
       "</tr>\n",
       "<tr>\n",
       "  <th>Date:</th>             <td>Fri, 10 Jul 2020</td> <th>  Prob (F-statistic):</th> <td>2.62e-32</td>\n",
       "</tr>\n",
       "<tr>\n",
       "  <th>Time:</th>                 <td>00:47:15</td>     <th>  Log-Likelihood:    </th> <td> -54.770</td>\n",
       "</tr>\n",
       "<tr>\n",
       "  <th>No. Observations:</th>      <td>   215</td>      <th>  AIC:               </th> <td>   125.5</td>\n",
       "</tr>\n",
       "<tr>\n",
       "  <th>Df Residuals:</th>          <td>   207</td>      <th>  BIC:               </th> <td>   152.5</td>\n",
       "</tr>\n",
       "<tr>\n",
       "  <th>Df Model:</th>              <td>     7</td>      <th>                     </th>     <td> </td>   \n",
       "</tr>\n",
       "<tr>\n",
       "  <th>Covariance Type:</th>      <td>nonrobust</td>    <th>                     </th>     <td> </td>   \n",
       "</tr>\n",
       "</table>\n",
       "<table class=\"simpletable\">\n",
       "<tr>\n",
       "       <td></td>          <th>coef</th>     <th>std err</th>      <th>t</th>      <th>P>|t|</th>  <th>[0.025</th>    <th>0.975]</th>  \n",
       "</tr>\n",
       "<tr>\n",
       "  <th>const</th>       <td>   -0.1939</td> <td>    0.082</td> <td>   -2.361</td> <td> 0.019</td> <td>   -0.356</td> <td>   -0.032</td>\n",
       "</tr>\n",
       "<tr>\n",
       "  <th>ssc_p</th>       <td>    0.9823</td> <td>    0.130</td> <td>    7.545</td> <td> 0.000</td> <td>    0.726</td> <td>    1.239</td>\n",
       "</tr>\n",
       "<tr>\n",
       "  <th>hsc_p</th>       <td>    0.5315</td> <td>    0.152</td> <td>    3.503</td> <td> 0.001</td> <td>    0.232</td> <td>    0.831</td>\n",
       "</tr>\n",
       "<tr>\n",
       "  <th>degree_p</th>    <td>    0.6364</td> <td>    0.152</td> <td>    4.190</td> <td> 0.000</td> <td>    0.337</td> <td>    0.936</td>\n",
       "</tr>\n",
       "<tr>\n",
       "  <th>degree_t</th>    <td>   -0.1168</td> <td>    0.052</td> <td>   -2.248</td> <td> 0.026</td> <td>   -0.219</td> <td>   -0.014</td>\n",
       "</tr>\n",
       "<tr>\n",
       "  <th>mba_p</th>       <td>   -0.5792</td> <td>    0.119</td> <td>   -4.857</td> <td> 0.000</td> <td>   -0.814</td> <td>   -0.344</td>\n",
       "</tr>\n",
       "<tr>\n",
       "  <th>Male?</th>       <td>    0.0769</td> <td>    0.049</td> <td>    1.574</td> <td> 0.117</td> <td>   -0.019</td> <td>    0.173</td>\n",
       "</tr>\n",
       "<tr>\n",
       "  <th>Experience?</th> <td>    0.1804</td> <td>    0.047</td> <td>    3.817</td> <td> 0.000</td> <td>    0.087</td> <td>    0.274</td>\n",
       "</tr>\n",
       "</table>\n",
       "<table class=\"simpletable\">\n",
       "<tr>\n",
       "  <th>Omnibus:</th>       <td> 5.255</td> <th>  Durbin-Watson:     </th> <td>   2.081</td>\n",
       "</tr>\n",
       "<tr>\n",
       "  <th>Prob(Omnibus):</th> <td> 0.072</td> <th>  Jarque-Bera (JB):  </th> <td>   3.309</td>\n",
       "</tr>\n",
       "<tr>\n",
       "  <th>Skew:</th>          <td>-0.109</td> <th>  Prob(JB):          </th> <td>   0.191</td>\n",
       "</tr>\n",
       "<tr>\n",
       "  <th>Kurtosis:</th>      <td> 2.433</td> <th>  Cond. No.          </th> <td>    12.6</td>\n",
       "</tr>\n",
       "</table><br/><br/>Warnings:<br/>[1] Standard Errors assume that the covariance matrix of the errors is correctly specified."
      ],
      "text/plain": [
       "<class 'statsmodels.iolib.summary.Summary'>\n",
       "\"\"\"\n",
       "                            OLS Regression Results                            \n",
       "==============================================================================\n",
       "Dep. Variable:                      y   R-squared:                       0.546\n",
       "Model:                            OLS   Adj. R-squared:                  0.530\n",
       "Method:                 Least Squares   F-statistic:                     35.52\n",
       "Date:                Fri, 10 Jul 2020   Prob (F-statistic):           2.62e-32\n",
       "Time:                        00:47:15   Log-Likelihood:                -54.770\n",
       "No. Observations:                 215   AIC:                             125.5\n",
       "Df Residuals:                     207   BIC:                             152.5\n",
       "Df Model:                           7                                         \n",
       "Covariance Type:            nonrobust                                         \n",
       "===============================================================================\n",
       "                  coef    std err          t      P>|t|      [0.025      0.975]\n",
       "-------------------------------------------------------------------------------\n",
       "const          -0.1939      0.082     -2.361      0.019      -0.356      -0.032\n",
       "ssc_p           0.9823      0.130      7.545      0.000       0.726       1.239\n",
       "hsc_p           0.5315      0.152      3.503      0.001       0.232       0.831\n",
       "degree_p        0.6364      0.152      4.190      0.000       0.337       0.936\n",
       "degree_t       -0.1168      0.052     -2.248      0.026      -0.219      -0.014\n",
       "mba_p          -0.5792      0.119     -4.857      0.000      -0.814      -0.344\n",
       "Male?           0.0769      0.049      1.574      0.117      -0.019       0.173\n",
       "Experience?     0.1804      0.047      3.817      0.000       0.087       0.274\n",
       "==============================================================================\n",
       "Omnibus:                        5.255   Durbin-Watson:                   2.081\n",
       "Prob(Omnibus):                  0.072   Jarque-Bera (JB):                3.309\n",
       "Skew:                          -0.109   Prob(JB):                        0.191\n",
       "Kurtosis:                       2.433   Cond. No.                         12.6\n",
       "==============================================================================\n",
       "\n",
       "Warnings:\n",
       "[1] Standard Errors assume that the covariance matrix of the errors is correctly specified.\n",
       "\"\"\""
      ]
     },
     "execution_count": 20,
     "metadata": {},
     "output_type": "execute_result"
    }
   ],
   "source": [
    "x2_scaled = x2_scaled.drop('etest_p', axis=1)\n",
    "model2 = sm.OLS(y2, x2_scaled)\n",
    "results = model2.fit()\n",
    "results.summary()"
   ]
  },
  {
   "cell_type": "code",
   "execution_count": 21,
   "metadata": {},
   "outputs": [
    {
     "data": {
      "text/html": [
       "<table class=\"simpletable\">\n",
       "<caption>OLS Regression Results</caption>\n",
       "<tr>\n",
       "  <th>Dep. Variable:</th>            <td>y</td>        <th>  R-squared:         </th> <td>   0.540</td>\n",
       "</tr>\n",
       "<tr>\n",
       "  <th>Model:</th>                   <td>OLS</td>       <th>  Adj. R-squared:    </th> <td>   0.527</td>\n",
       "</tr>\n",
       "<tr>\n",
       "  <th>Method:</th>             <td>Least Squares</td>  <th>  F-statistic:       </th> <td>   40.74</td>\n",
       "</tr>\n",
       "<tr>\n",
       "  <th>Date:</th>             <td>Fri, 10 Jul 2020</td> <th>  Prob (F-statistic):</th> <td>1.31e-32</td>\n",
       "</tr>\n",
       "<tr>\n",
       "  <th>Time:</th>                 <td>00:47:15</td>     <th>  Log-Likelihood:    </th> <td> -56.049</td>\n",
       "</tr>\n",
       "<tr>\n",
       "  <th>No. Observations:</th>      <td>   215</td>      <th>  AIC:               </th> <td>   126.1</td>\n",
       "</tr>\n",
       "<tr>\n",
       "  <th>Df Residuals:</th>          <td>   208</td>      <th>  BIC:               </th> <td>   149.7</td>\n",
       "</tr>\n",
       "<tr>\n",
       "  <th>Df Model:</th>              <td>     6</td>      <th>                     </th>     <td> </td>   \n",
       "</tr>\n",
       "<tr>\n",
       "  <th>Covariance Type:</th>      <td>nonrobust</td>    <th>                     </th>     <td> </td>   \n",
       "</tr>\n",
       "</table>\n",
       "<table class=\"simpletable\">\n",
       "<tr>\n",
       "       <td></td>          <th>coef</th>     <th>std err</th>      <th>t</th>      <th>P>|t|</th>  <th>[0.025</th>    <th>0.975]</th>  \n",
       "</tr>\n",
       "<tr>\n",
       "  <th>const</th>       <td>   -0.1311</td> <td>    0.072</td> <td>   -1.820</td> <td> 0.070</td> <td>   -0.273</td> <td>    0.011</td>\n",
       "</tr>\n",
       "<tr>\n",
       "  <th>ssc_p</th>       <td>    0.9854</td> <td>    0.131</td> <td>    7.543</td> <td> 0.000</td> <td>    0.728</td> <td>    1.243</td>\n",
       "</tr>\n",
       "<tr>\n",
       "  <th>hsc_p</th>       <td>    0.5597</td> <td>    0.151</td> <td>    3.702</td> <td> 0.000</td> <td>    0.262</td> <td>    0.858</td>\n",
       "</tr>\n",
       "<tr>\n",
       "  <th>degree_p</th>    <td>    0.6095</td> <td>    0.151</td> <td>    4.025</td> <td> 0.000</td> <td>    0.311</td> <td>    0.908</td>\n",
       "</tr>\n",
       "<tr>\n",
       "  <th>degree_t</th>    <td>   -0.1080</td> <td>    0.052</td> <td>   -2.083</td> <td> 0.038</td> <td>   -0.210</td> <td>   -0.006</td>\n",
       "</tr>\n",
       "<tr>\n",
       "  <th>mba_p</th>       <td>   -0.6361</td> <td>    0.114</td> <td>   -5.576</td> <td> 0.000</td> <td>   -0.861</td> <td>   -0.411</td>\n",
       "</tr>\n",
       "<tr>\n",
       "  <th>Experience?</th> <td>    0.1900</td> <td>    0.047</td> <td>    4.040</td> <td> 0.000</td> <td>    0.097</td> <td>    0.283</td>\n",
       "</tr>\n",
       "</table>\n",
       "<table class=\"simpletable\">\n",
       "<tr>\n",
       "  <th>Omnibus:</th>       <td> 3.838</td> <th>  Durbin-Watson:     </th> <td>   2.067</td>\n",
       "</tr>\n",
       "<tr>\n",
       "  <th>Prob(Omnibus):</th> <td> 0.147</td> <th>  Jarque-Bera (JB):  </th> <td>   2.731</td>\n",
       "</tr>\n",
       "<tr>\n",
       "  <th>Skew:</th>          <td>-0.112</td> <th>  Prob(JB):          </th> <td>   0.255</td>\n",
       "</tr>\n",
       "<tr>\n",
       "  <th>Kurtosis:</th>      <td> 2.496</td> <th>  Cond. No.          </th> <td>    11.4</td>\n",
       "</tr>\n",
       "</table><br/><br/>Warnings:<br/>[1] Standard Errors assume that the covariance matrix of the errors is correctly specified."
      ],
      "text/plain": [
       "<class 'statsmodels.iolib.summary.Summary'>\n",
       "\"\"\"\n",
       "                            OLS Regression Results                            \n",
       "==============================================================================\n",
       "Dep. Variable:                      y   R-squared:                       0.540\n",
       "Model:                            OLS   Adj. R-squared:                  0.527\n",
       "Method:                 Least Squares   F-statistic:                     40.74\n",
       "Date:                Fri, 10 Jul 2020   Prob (F-statistic):           1.31e-32\n",
       "Time:                        00:47:15   Log-Likelihood:                -56.049\n",
       "No. Observations:                 215   AIC:                             126.1\n",
       "Df Residuals:                     208   BIC:                             149.7\n",
       "Df Model:                           6                                         \n",
       "Covariance Type:            nonrobust                                         \n",
       "===============================================================================\n",
       "                  coef    std err          t      P>|t|      [0.025      0.975]\n",
       "-------------------------------------------------------------------------------\n",
       "const          -0.1311      0.072     -1.820      0.070      -0.273       0.011\n",
       "ssc_p           0.9854      0.131      7.543      0.000       0.728       1.243\n",
       "hsc_p           0.5597      0.151      3.702      0.000       0.262       0.858\n",
       "degree_p        0.6095      0.151      4.025      0.000       0.311       0.908\n",
       "degree_t       -0.1080      0.052     -2.083      0.038      -0.210      -0.006\n",
       "mba_p          -0.6361      0.114     -5.576      0.000      -0.861      -0.411\n",
       "Experience?     0.1900      0.047      4.040      0.000       0.097       0.283\n",
       "==============================================================================\n",
       "Omnibus:                        3.838   Durbin-Watson:                   2.067\n",
       "Prob(Omnibus):                  0.147   Jarque-Bera (JB):                2.731\n",
       "Skew:                          -0.112   Prob(JB):                        0.255\n",
       "Kurtosis:                       2.496   Cond. No.                         11.4\n",
       "==============================================================================\n",
       "\n",
       "Warnings:\n",
       "[1] Standard Errors assume that the covariance matrix of the errors is correctly specified.\n",
       "\"\"\""
      ]
     },
     "execution_count": 21,
     "metadata": {},
     "output_type": "execute_result"
    }
   ],
   "source": [
    "x2_scaled = x2_scaled.drop('Male?', axis=1)\n",
    "model2 = sm.OLS(y2, x2_scaled)\n",
    "results = model2.fit()\n",
    "results.summary()"
   ]
  },
  {
   "cell_type": "code",
   "execution_count": 22,
   "metadata": {},
   "outputs": [
    {
     "data": {
      "text/html": [
       "<table class=\"simpletable\">\n",
       "<caption>OLS Regression Results</caption>\n",
       "<tr>\n",
       "  <th>Dep. Variable:</th>            <td>y</td>        <th>  R-squared:         </th> <td>   0.531</td>\n",
       "</tr>\n",
       "<tr>\n",
       "  <th>Model:</th>                   <td>OLS</td>       <th>  Adj. R-squared:    </th> <td>   0.519</td>\n",
       "</tr>\n",
       "<tr>\n",
       "  <th>Method:</th>             <td>Least Squares</td>  <th>  F-statistic:       </th> <td>   47.26</td>\n",
       "</tr>\n",
       "<tr>\n",
       "  <th>Date:</th>             <td>Fri, 10 Jul 2020</td> <th>  Prob (F-statistic):</th> <td>1.49e-32</td>\n",
       "</tr>\n",
       "<tr>\n",
       "  <th>Time:</th>                 <td>00:47:15</td>     <th>  Log-Likelihood:    </th> <td> -58.269</td>\n",
       "</tr>\n",
       "<tr>\n",
       "  <th>No. Observations:</th>      <td>   215</td>      <th>  AIC:               </th> <td>   128.5</td>\n",
       "</tr>\n",
       "<tr>\n",
       "  <th>Df Residuals:</th>          <td>   209</td>      <th>  BIC:               </th> <td>   148.8</td>\n",
       "</tr>\n",
       "<tr>\n",
       "  <th>Df Model:</th>              <td>     5</td>      <th>                     </th>     <td> </td>   \n",
       "</tr>\n",
       "<tr>\n",
       "  <th>Covariance Type:</th>      <td>nonrobust</td>    <th>                     </th>     <td> </td>   \n",
       "</tr>\n",
       "</table>\n",
       "<table class=\"simpletable\">\n",
       "<tr>\n",
       "       <td></td>          <th>coef</th>     <th>std err</th>      <th>t</th>      <th>P>|t|</th>  <th>[0.025</th>    <th>0.975]</th>  \n",
       "</tr>\n",
       "<tr>\n",
       "  <th>const</th>       <td>   -0.1542</td> <td>    0.072</td> <td>   -2.149</td> <td> 0.033</td> <td>   -0.296</td> <td>   -0.013</td>\n",
       "</tr>\n",
       "<tr>\n",
       "  <th>ssc_p</th>       <td>    0.9193</td> <td>    0.128</td> <td>    7.197</td> <td> 0.000</td> <td>    0.668</td> <td>    1.171</td>\n",
       "</tr>\n",
       "<tr>\n",
       "  <th>hsc_p</th>       <td>    0.6352</td> <td>    0.148</td> <td>    4.293</td> <td> 0.000</td> <td>    0.343</td> <td>    0.927</td>\n",
       "</tr>\n",
       "<tr>\n",
       "  <th>degree_p</th>    <td>    0.6117</td> <td>    0.153</td> <td>    4.007</td> <td> 0.000</td> <td>    0.311</td> <td>    0.913</td>\n",
       "</tr>\n",
       "<tr>\n",
       "  <th>mba_p</th>       <td>   -0.6553</td> <td>    0.115</td> <td>   -5.718</td> <td> 0.000</td> <td>   -0.881</td> <td>   -0.429</td>\n",
       "</tr>\n",
       "<tr>\n",
       "  <th>Experience?</th> <td>    0.1822</td> <td>    0.047</td> <td>    3.855</td> <td> 0.000</td> <td>    0.089</td> <td>    0.275</td>\n",
       "</tr>\n",
       "</table>\n",
       "<table class=\"simpletable\">\n",
       "<tr>\n",
       "  <th>Omnibus:</th>       <td> 4.995</td> <th>  Durbin-Watson:     </th> <td>   2.083</td>\n",
       "</tr>\n",
       "<tr>\n",
       "  <th>Prob(Omnibus):</th> <td> 0.082</td> <th>  Jarque-Bera (JB):  </th> <td>   3.641</td>\n",
       "</tr>\n",
       "<tr>\n",
       "  <th>Skew:</th>          <td>-0.183</td> <th>  Prob(JB):          </th> <td>   0.162</td>\n",
       "</tr>\n",
       "<tr>\n",
       "  <th>Kurtosis:</th>      <td> 2.477</td> <th>  Cond. No.          </th> <td>    10.9</td>\n",
       "</tr>\n",
       "</table><br/><br/>Warnings:<br/>[1] Standard Errors assume that the covariance matrix of the errors is correctly specified."
      ],
      "text/plain": [
       "<class 'statsmodels.iolib.summary.Summary'>\n",
       "\"\"\"\n",
       "                            OLS Regression Results                            \n",
       "==============================================================================\n",
       "Dep. Variable:                      y   R-squared:                       0.531\n",
       "Model:                            OLS   Adj. R-squared:                  0.519\n",
       "Method:                 Least Squares   F-statistic:                     47.26\n",
       "Date:                Fri, 10 Jul 2020   Prob (F-statistic):           1.49e-32\n",
       "Time:                        00:47:15   Log-Likelihood:                -58.269\n",
       "No. Observations:                 215   AIC:                             128.5\n",
       "Df Residuals:                     209   BIC:                             148.8\n",
       "Df Model:                           5                                         \n",
       "Covariance Type:            nonrobust                                         \n",
       "===============================================================================\n",
       "                  coef    std err          t      P>|t|      [0.025      0.975]\n",
       "-------------------------------------------------------------------------------\n",
       "const          -0.1542      0.072     -2.149      0.033      -0.296      -0.013\n",
       "ssc_p           0.9193      0.128      7.197      0.000       0.668       1.171\n",
       "hsc_p           0.6352      0.148      4.293      0.000       0.343       0.927\n",
       "degree_p        0.6117      0.153      4.007      0.000       0.311       0.913\n",
       "mba_p          -0.6553      0.115     -5.718      0.000      -0.881      -0.429\n",
       "Experience?     0.1822      0.047      3.855      0.000       0.089       0.275\n",
       "==============================================================================\n",
       "Omnibus:                        4.995   Durbin-Watson:                   2.083\n",
       "Prob(Omnibus):                  0.082   Jarque-Bera (JB):                3.641\n",
       "Skew:                          -0.183   Prob(JB):                        0.162\n",
       "Kurtosis:                       2.477   Cond. No.                         10.9\n",
       "==============================================================================\n",
       "\n",
       "Warnings:\n",
       "[1] Standard Errors assume that the covariance matrix of the errors is correctly specified.\n",
       "\"\"\""
      ]
     },
     "execution_count": 22,
     "metadata": {},
     "output_type": "execute_result"
    }
   ],
   "source": [
    "x2_scaled = x2_scaled.drop('degree_t', axis=1)\n",
    "model2 = sm.OLS(y2, x2_scaled)\n",
    "results = model2.fit()\n",
    "results.summary()"
   ]
  },
  {
   "cell_type": "markdown",
   "metadata": {},
   "source": [
    "##### Thus, Top 6 Features affecting salary we identified are ssc_p, hsc_p, degree_p, mba_p, and Experience?"
   ]
  },
  {
   "cell_type": "markdown",
   "metadata": {},
   "source": [
    "## A. Multicollinearity"
   ]
  },
  {
   "cell_type": "code",
   "execution_count": 23,
   "metadata": {},
   "outputs": [
    {
     "data": {
      "text/html": [
       "<div>\n",
       "<style scoped>\n",
       "    .dataframe tbody tr th:only-of-type {\n",
       "        vertical-align: middle;\n",
       "    }\n",
       "\n",
       "    .dataframe tbody tr th {\n",
       "        vertical-align: top;\n",
       "    }\n",
       "\n",
       "    .dataframe thead th {\n",
       "        text-align: right;\n",
       "    }\n",
       "</style>\n",
       "<table border=\"1\" class=\"dataframe\">\n",
       "  <thead>\n",
       "    <tr style=\"text-align: right;\">\n",
       "      <th></th>\n",
       "      <th>ssc_p</th>\n",
       "      <th>hsc_p</th>\n",
       "      <th>degree_p</th>\n",
       "      <th>mba_p</th>\n",
       "      <th>Experience?</th>\n",
       "      <th>Placed?</th>\n",
       "    </tr>\n",
       "  </thead>\n",
       "  <tbody>\n",
       "    <tr>\n",
       "      <th>0</th>\n",
       "      <td>67.00</td>\n",
       "      <td>91.00</td>\n",
       "      <td>58.00</td>\n",
       "      <td>58.80</td>\n",
       "      <td>0.0</td>\n",
       "      <td>1.0</td>\n",
       "    </tr>\n",
       "    <tr>\n",
       "      <th>1</th>\n",
       "      <td>79.33</td>\n",
       "      <td>78.33</td>\n",
       "      <td>77.48</td>\n",
       "      <td>66.28</td>\n",
       "      <td>1.0</td>\n",
       "      <td>1.0</td>\n",
       "    </tr>\n",
       "    <tr>\n",
       "      <th>2</th>\n",
       "      <td>65.00</td>\n",
       "      <td>68.00</td>\n",
       "      <td>64.00</td>\n",
       "      <td>57.80</td>\n",
       "      <td>0.0</td>\n",
       "      <td>1.0</td>\n",
       "    </tr>\n",
       "    <tr>\n",
       "      <th>3</th>\n",
       "      <td>56.00</td>\n",
       "      <td>52.00</td>\n",
       "      <td>52.00</td>\n",
       "      <td>59.43</td>\n",
       "      <td>0.0</td>\n",
       "      <td>0.0</td>\n",
       "    </tr>\n",
       "    <tr>\n",
       "      <th>4</th>\n",
       "      <td>85.80</td>\n",
       "      <td>73.60</td>\n",
       "      <td>73.30</td>\n",
       "      <td>55.50</td>\n",
       "      <td>0.0</td>\n",
       "      <td>1.0</td>\n",
       "    </tr>\n",
       "  </tbody>\n",
       "</table>\n",
       "</div>"
      ],
      "text/plain": [
       "   ssc_p  hsc_p  degree_p  mba_p  Experience?  Placed?\n",
       "0  67.00  91.00     58.00  58.80          0.0      1.0\n",
       "1  79.33  78.33     77.48  66.28          1.0      1.0\n",
       "2  65.00  68.00     64.00  57.80          0.0      1.0\n",
       "3  56.00  52.00     52.00  59.43          0.0      0.0\n",
       "4  85.80  73.60     73.30  55.50          0.0      1.0"
      ]
     },
     "execution_count": 23,
     "metadata": {},
     "output_type": "execute_result"
    }
   ],
   "source": [
    "data_2=data2[['ssc_p','hsc_p','degree_p','mba_p','Experience?','Placed?']]\n",
    "data_2.head()"
   ]
  },
  {
   "cell_type": "code",
   "execution_count": 24,
   "metadata": {},
   "outputs": [
    {
     "data": {
      "text/html": [
       "<div>\n",
       "<style scoped>\n",
       "    .dataframe tbody tr th:only-of-type {\n",
       "        vertical-align: middle;\n",
       "    }\n",
       "\n",
       "    .dataframe tbody tr th {\n",
       "        vertical-align: top;\n",
       "    }\n",
       "\n",
       "    .dataframe thead th {\n",
       "        text-align: right;\n",
       "    }\n",
       "</style>\n",
       "<table border=\"1\" class=\"dataframe\">\n",
       "  <thead>\n",
       "    <tr style=\"text-align: right;\">\n",
       "      <th></th>\n",
       "      <th>ssc_p</th>\n",
       "      <th>hsc_p</th>\n",
       "      <th>degree_p</th>\n",
       "      <th>mba_p</th>\n",
       "      <th>Experience?</th>\n",
       "      <th>Placed?</th>\n",
       "    </tr>\n",
       "  </thead>\n",
       "  <tbody>\n",
       "    <tr>\n",
       "      <th>ssc_p</th>\n",
       "      <td>1.000000</td>\n",
       "      <td>0.511472</td>\n",
       "      <td>0.538404</td>\n",
       "      <td>0.388478</td>\n",
       "      <td>0.175675</td>\n",
       "      <td>0.607889</td>\n",
       "    </tr>\n",
       "    <tr>\n",
       "      <th>hsc_p</th>\n",
       "      <td>0.511472</td>\n",
       "      <td>1.000000</td>\n",
       "      <td>0.434206</td>\n",
       "      <td>0.354823</td>\n",
       "      <td>0.141025</td>\n",
       "      <td>0.491228</td>\n",
       "    </tr>\n",
       "    <tr>\n",
       "      <th>degree_p</th>\n",
       "      <td>0.538404</td>\n",
       "      <td>0.434206</td>\n",
       "      <td>1.000000</td>\n",
       "      <td>0.402364</td>\n",
       "      <td>0.122648</td>\n",
       "      <td>0.479861</td>\n",
       "    </tr>\n",
       "    <tr>\n",
       "      <th>mba_p</th>\n",
       "      <td>0.388478</td>\n",
       "      <td>0.354823</td>\n",
       "      <td>0.402364</td>\n",
       "      <td>1.000000</td>\n",
       "      <td>0.168811</td>\n",
       "      <td>0.076922</td>\n",
       "    </tr>\n",
       "    <tr>\n",
       "      <th>Experience?</th>\n",
       "      <td>0.175675</td>\n",
       "      <td>0.141025</td>\n",
       "      <td>0.122648</td>\n",
       "      <td>0.168811</td>\n",
       "      <td>1.000000</td>\n",
       "      <td>0.276060</td>\n",
       "    </tr>\n",
       "    <tr>\n",
       "      <th>Placed?</th>\n",
       "      <td>0.607889</td>\n",
       "      <td>0.491228</td>\n",
       "      <td>0.479861</td>\n",
       "      <td>0.076922</td>\n",
       "      <td>0.276060</td>\n",
       "      <td>1.000000</td>\n",
       "    </tr>\n",
       "  </tbody>\n",
       "</table>\n",
       "</div>"
      ],
      "text/plain": [
       "                ssc_p     hsc_p  degree_p     mba_p  Experience?   Placed?\n",
       "ssc_p        1.000000  0.511472  0.538404  0.388478     0.175675  0.607889\n",
       "hsc_p        0.511472  1.000000  0.434206  0.354823     0.141025  0.491228\n",
       "degree_p     0.538404  0.434206  1.000000  0.402364     0.122648  0.479861\n",
       "mba_p        0.388478  0.354823  0.402364  1.000000     0.168811  0.076922\n",
       "Experience?  0.175675  0.141025  0.122648  0.168811     1.000000  0.276060\n",
       "Placed?      0.607889  0.491228  0.479861  0.076922     0.276060  1.000000"
      ]
     },
     "execution_count": 24,
     "metadata": {},
     "output_type": "execute_result"
    }
   ],
   "source": [
    "corr=data_2.corr()\n",
    "corr"
   ]
  },
  {
   "cell_type": "code",
   "execution_count": 25,
   "metadata": {},
   "outputs": [
    {
     "data": {
      "text/html": [
       "<div>\n",
       "<style scoped>\n",
       "    .dataframe tbody tr th:only-of-type {\n",
       "        vertical-align: middle;\n",
       "    }\n",
       "\n",
       "    .dataframe tbody tr th {\n",
       "        vertical-align: top;\n",
       "    }\n",
       "\n",
       "    .dataframe thead th {\n",
       "        text-align: right;\n",
       "    }\n",
       "</style>\n",
       "<table border=\"1\" class=\"dataframe\">\n",
       "  <thead>\n",
       "    <tr style=\"text-align: right;\">\n",
       "      <th></th>\n",
       "      <th>ssc_p</th>\n",
       "      <th>hsc_p</th>\n",
       "      <th>degree_p</th>\n",
       "      <th>Experience?</th>\n",
       "      <th>Placed?</th>\n",
       "    </tr>\n",
       "  </thead>\n",
       "  <tbody>\n",
       "    <tr>\n",
       "      <th>0</th>\n",
       "      <td>67.00</td>\n",
       "      <td>91.00</td>\n",
       "      <td>58.00</td>\n",
       "      <td>0.0</td>\n",
       "      <td>1.0</td>\n",
       "    </tr>\n",
       "    <tr>\n",
       "      <th>1</th>\n",
       "      <td>79.33</td>\n",
       "      <td>78.33</td>\n",
       "      <td>77.48</td>\n",
       "      <td>1.0</td>\n",
       "      <td>1.0</td>\n",
       "    </tr>\n",
       "    <tr>\n",
       "      <th>2</th>\n",
       "      <td>65.00</td>\n",
       "      <td>68.00</td>\n",
       "      <td>64.00</td>\n",
       "      <td>0.0</td>\n",
       "      <td>1.0</td>\n",
       "    </tr>\n",
       "    <tr>\n",
       "      <th>3</th>\n",
       "      <td>56.00</td>\n",
       "      <td>52.00</td>\n",
       "      <td>52.00</td>\n",
       "      <td>0.0</td>\n",
       "      <td>0.0</td>\n",
       "    </tr>\n",
       "    <tr>\n",
       "      <th>4</th>\n",
       "      <td>85.80</td>\n",
       "      <td>73.60</td>\n",
       "      <td>73.30</td>\n",
       "      <td>0.0</td>\n",
       "      <td>1.0</td>\n",
       "    </tr>\n",
       "  </tbody>\n",
       "</table>\n",
       "</div>"
      ],
      "text/plain": [
       "   ssc_p  hsc_p  degree_p  Experience?  Placed?\n",
       "0  67.00  91.00     58.00          0.0      1.0\n",
       "1  79.33  78.33     77.48          1.0      1.0\n",
       "2  65.00  68.00     64.00          0.0      1.0\n",
       "3  56.00  52.00     52.00          0.0      0.0\n",
       "4  85.80  73.60     73.30          0.0      1.0"
      ]
     },
     "execution_count": 25,
     "metadata": {},
     "output_type": "execute_result"
    }
   ],
   "source": [
    "data3=data2[['ssc_p','hsc_p','degree_p','Experience?','Placed?']]\n",
    "data3.head()"
   ]
  },
  {
   "cell_type": "code",
   "execution_count": 26,
   "metadata": {},
   "outputs": [
    {
     "data": {
      "text/html": [
       "<div>\n",
       "<style scoped>\n",
       "    .dataframe tbody tr th:only-of-type {\n",
       "        vertical-align: middle;\n",
       "    }\n",
       "\n",
       "    .dataframe tbody tr th {\n",
       "        vertical-align: top;\n",
       "    }\n",
       "\n",
       "    .dataframe thead th {\n",
       "        text-align: right;\n",
       "    }\n",
       "</style>\n",
       "<table border=\"1\" class=\"dataframe\">\n",
       "  <thead>\n",
       "    <tr style=\"text-align: right;\">\n",
       "      <th></th>\n",
       "      <th>ssc_p</th>\n",
       "      <th>hsc_p</th>\n",
       "      <th>degree_p</th>\n",
       "      <th>experience</th>\n",
       "      <th>placed</th>\n",
       "    </tr>\n",
       "  </thead>\n",
       "  <tbody>\n",
       "    <tr>\n",
       "      <th>0</th>\n",
       "      <td>67.00</td>\n",
       "      <td>91.00</td>\n",
       "      <td>58.00</td>\n",
       "      <td>0.0</td>\n",
       "      <td>1.0</td>\n",
       "    </tr>\n",
       "    <tr>\n",
       "      <th>1</th>\n",
       "      <td>79.33</td>\n",
       "      <td>78.33</td>\n",
       "      <td>77.48</td>\n",
       "      <td>1.0</td>\n",
       "      <td>1.0</td>\n",
       "    </tr>\n",
       "    <tr>\n",
       "      <th>2</th>\n",
       "      <td>65.00</td>\n",
       "      <td>68.00</td>\n",
       "      <td>64.00</td>\n",
       "      <td>0.0</td>\n",
       "      <td>1.0</td>\n",
       "    </tr>\n",
       "    <tr>\n",
       "      <th>3</th>\n",
       "      <td>56.00</td>\n",
       "      <td>52.00</td>\n",
       "      <td>52.00</td>\n",
       "      <td>0.0</td>\n",
       "      <td>0.0</td>\n",
       "    </tr>\n",
       "    <tr>\n",
       "      <th>4</th>\n",
       "      <td>85.80</td>\n",
       "      <td>73.60</td>\n",
       "      <td>73.30</td>\n",
       "      <td>0.0</td>\n",
       "      <td>1.0</td>\n",
       "    </tr>\n",
       "  </tbody>\n",
       "</table>\n",
       "</div>"
      ],
      "text/plain": [
       "   ssc_p  hsc_p  degree_p  experience  placed\n",
       "0  67.00  91.00     58.00         0.0     1.0\n",
       "1  79.33  78.33     77.48         1.0     1.0\n",
       "2  65.00  68.00     64.00         0.0     1.0\n",
       "3  56.00  52.00     52.00         0.0     0.0\n",
       "4  85.80  73.60     73.30         0.0     1.0"
      ]
     },
     "execution_count": 26,
     "metadata": {},
     "output_type": "execute_result"
    }
   ],
   "source": [
    "data3.columns = ['ssc_p','hsc_p','degree_p','experience','placed']\n",
    "data3.head()"
   ]
  },
  {
   "cell_type": "code",
   "execution_count": 27,
   "metadata": {},
   "outputs": [
    {
     "data": {
      "text/html": [
       "<div>\n",
       "<style scoped>\n",
       "    .dataframe tbody tr th:only-of-type {\n",
       "        vertical-align: middle;\n",
       "    }\n",
       "\n",
       "    .dataframe tbody tr th {\n",
       "        vertical-align: top;\n",
       "    }\n",
       "\n",
       "    .dataframe thead th {\n",
       "        text-align: right;\n",
       "    }\n",
       "</style>\n",
       "<table border=\"1\" class=\"dataframe\">\n",
       "  <thead>\n",
       "    <tr style=\"text-align: right;\">\n",
       "      <th></th>\n",
       "      <th>ssc_p</th>\n",
       "      <th>hsc_p</th>\n",
       "      <th>degree_p</th>\n",
       "      <th>experience</th>\n",
       "      <th>placed</th>\n",
       "    </tr>\n",
       "  </thead>\n",
       "  <tbody>\n",
       "    <tr>\n",
       "      <th>ssc_p</th>\n",
       "      <td>1.000000</td>\n",
       "      <td>0.511472</td>\n",
       "      <td>0.538404</td>\n",
       "      <td>0.175675</td>\n",
       "      <td>0.607889</td>\n",
       "    </tr>\n",
       "    <tr>\n",
       "      <th>hsc_p</th>\n",
       "      <td>0.511472</td>\n",
       "      <td>1.000000</td>\n",
       "      <td>0.434206</td>\n",
       "      <td>0.141025</td>\n",
       "      <td>0.491228</td>\n",
       "    </tr>\n",
       "    <tr>\n",
       "      <th>degree_p</th>\n",
       "      <td>0.538404</td>\n",
       "      <td>0.434206</td>\n",
       "      <td>1.000000</td>\n",
       "      <td>0.122648</td>\n",
       "      <td>0.479861</td>\n",
       "    </tr>\n",
       "    <tr>\n",
       "      <th>experience</th>\n",
       "      <td>0.175675</td>\n",
       "      <td>0.141025</td>\n",
       "      <td>0.122648</td>\n",
       "      <td>1.000000</td>\n",
       "      <td>0.276060</td>\n",
       "    </tr>\n",
       "    <tr>\n",
       "      <th>placed</th>\n",
       "      <td>0.607889</td>\n",
       "      <td>0.491228</td>\n",
       "      <td>0.479861</td>\n",
       "      <td>0.276060</td>\n",
       "      <td>1.000000</td>\n",
       "    </tr>\n",
       "  </tbody>\n",
       "</table>\n",
       "</div>"
      ],
      "text/plain": [
       "               ssc_p     hsc_p  degree_p  experience    placed\n",
       "ssc_p       1.000000  0.511472  0.538404    0.175675  0.607889\n",
       "hsc_p       0.511472  1.000000  0.434206    0.141025  0.491228\n",
       "degree_p    0.538404  0.434206  1.000000    0.122648  0.479861\n",
       "experience  0.175675  0.141025  0.122648    1.000000  0.276060\n",
       "placed      0.607889  0.491228  0.479861    0.276060  1.000000"
      ]
     },
     "execution_count": 27,
     "metadata": {},
     "output_type": "execute_result"
    }
   ],
   "source": [
    "corr=data3.corr()\n",
    "corr"
   ]
  },
  {
   "cell_type": "markdown",
   "metadata": {},
   "source": [
    "#### Variance Inflation Factor (VIF)"
   ]
  },
  {
   "cell_type": "code",
   "execution_count": 28,
   "metadata": {},
   "outputs": [],
   "source": [
    "from statsmodels.stats.outliers_influence import variance_inflation_factor\n",
    "from statsmodels.tools.tools import add_constant"
   ]
  },
  {
   "cell_type": "code",
   "execution_count": 29,
   "metadata": {},
   "outputs": [],
   "source": [
    "from sklearn.model_selection import train_test_split\n",
    "x3=data3.drop(['placed'],axis=1)\n",
    "y3=data3['placed']"
   ]
  },
  {
   "cell_type": "code",
   "execution_count": 30,
   "metadata": {},
   "outputs": [
    {
     "name": "stdout",
     "output_type": "stream",
     "text": [
      "VIF:\n"
     ]
    },
    {
     "data": {
      "text/plain": [
       "const         89.690656\n",
       "ssc_p          1.643131\n",
       "hsc_p          1.426960\n",
       "degree_p       1.480042\n",
       "experience     1.036096\n",
       "dtype: float64"
      ]
     },
     "execution_count": 30,
     "metadata": {},
     "output_type": "execute_result"
    }
   ],
   "source": [
    "X = add_constant(x3)\n",
    "print (\"VIF:\")\n",
    "pd.Series([variance_inflation_factor(X.values, i) for i in range(X.shape[1])], index=X.columns)"
   ]
  },
  {
   "cell_type": "markdown",
   "metadata": {},
   "source": [
    "## B. Outliers"
   ]
  },
  {
   "cell_type": "code",
   "execution_count": 31,
   "metadata": {},
   "outputs": [
    {
     "data": {
      "image/png": "[encoded data removed]",
      "text/plain": [
       "<Figure size 432x288 with 1 Axes>"
      ]
     },
     "metadata": {
      "needs_background": "light"
     },
     "output_type": "display_data"
    }
   ],
   "source": [
    "ssc = sns.boxplot(data= data3[['ssc_p']]).set_title(\"ssc_p Box Plot\")"
   ]
  },
  {
   "cell_type": "code",
   "execution_count": 32,
   "metadata": {},
   "outputs": [
    {
     "data": {
      "image/png": "[encoded data removed]",
      "text/plain": [
       "<Figure size 432x288 with 1 Axes>"
      ]
     },
     "metadata": {
      "needs_background": "light"
     },
     "output_type": "display_data"
    }
   ],
   "source": [
    "hsc = sns.boxplot(data= data3[['hsc_p']]).set_title(\"hsc_p Box Plot\")"
   ]
  },
  {
   "cell_type": "code",
   "execution_count": 33,
   "metadata": {},
   "outputs": [
    {
     "data": {
      "image/png": "[encoded data removed]",
      "text/plain": [
       "<Figure size 432x288 with 1 Axes>"
      ]
     },
     "metadata": {
      "needs_background": "light"
     },
     "output_type": "display_data"
    }
   ],
   "source": [
    "degree = sns.boxplot(data= data3[['degree_p']]).set_title(\"degree_p Box Plot\")"
   ]
  },
  {
   "cell_type": "markdown",
   "metadata": {},
   "source": [
    "## C. Continuous Independent Variables Are Linearly Related To The Log-Odds"
   ]
  },
  {
   "cell_type": "code",
   "execution_count": 34,
   "metadata": {},
   "outputs": [],
   "source": [
    "# Needed to run the logistic regression\n",
    "import statsmodels.formula.api as smf\n",
    "\n",
    "# For plotting/checking assumptions\n",
    "import seaborn as sns"
   ]
  },
  {
   "cell_type": "code",
   "execution_count": 35,
   "metadata": {},
   "outputs": [
    {
     "data": {
      "image/png": "[encoded data removed]",
      "text/plain": [
       "<Figure size 432x288 with 1 Axes>"
      ]
     },
     "metadata": {
      "needs_background": "light"
     },
     "output_type": "display_data"
    }
   ],
   "source": [
    "ssc = sns.regplot(x= 'ssc_p', y= 'placed', data= data3, logistic= True).set_title(\"ssc_p Log Odds Linear Plot\")"
   ]
  },
  {
   "cell_type": "code",
   "execution_count": 36,
   "metadata": {},
   "outputs": [
    {
     "data": {
      "image/png": "[encoded data removed]",
      "text/plain": [
       "<Figure size 432x288 with 1 Axes>"
      ]
     },
     "metadata": {
      "needs_background": "light"
     },
     "output_type": "display_data"
    }
   ],
   "source": [
    "hsc = sns.regplot(x= 'hsc_p', y= 'placed', data= data3, logistic= True).set_title(\"hsc_p Log Odds Linear Plot\")"
   ]
  },
  {
   "cell_type": "code",
   "execution_count": 37,
   "metadata": {},
   "outputs": [
    {
     "data": {
      "image/png": "[encoded data removed]",
      "text/plain": [
       "<Figure size 432x288 with 1 Axes>"
      ]
     },
     "metadata": {
      "needs_background": "light"
     },
     "output_type": "display_data"
    }
   ],
   "source": [
    "degree = sns.regplot(x= 'degree_p', y= 'placed', data= data3, logistic= True).set_title(\"degree_p Log Odds Linear Plot\")"
   ]
  },
  {
   "cell_type": "markdown",
   "metadata": {},
   "source": [
    "## Summary"
   ]
  },
  {
   "cell_type": "code",
   "execution_count": 38,
   "metadata": {},
   "outputs": [],
   "source": [
    "x_train, x_test, y_train, y_test = train_test_split(x3,y3,test_size=0.25)"
   ]
  },
  {
   "cell_type": "code",
   "execution_count": 39,
   "metadata": {},
   "outputs": [],
   "source": [
    "from sklearn.linear_model import LogisticRegression\n",
    "model_3 = LogisticRegression()"
   ]
  },
  {
   "cell_type": "code",
   "execution_count": 40,
   "metadata": {},
   "outputs": [
    {
     "data": {
      "text/plain": [
       "LogisticRegression(C=1.0, class_weight=None, dual=False, fit_intercept=True,\n",
       "                   intercept_scaling=1, l1_ratio=None, max_iter=100,\n",
       "                   multi_class='auto', n_jobs=None, penalty='l2',\n",
       "                   random_state=None, solver='lbfgs', tol=0.0001, verbose=0,\n",
       "                   warm_start=False)"
      ]
     },
     "execution_count": 40,
     "metadata": {},
     "output_type": "execute_result"
    }
   ],
   "source": [
    "model_3.fit(x_train,y_train)"
   ]
  },
  {
   "cell_type": "code",
   "execution_count": 41,
   "metadata": {},
   "outputs": [
    {
     "data": {
      "text/plain": [
       "array([0., 0., 1., 0., 0., 1., 1., 1., 0., 0., 1., 0., 1., 1., 0., 0., 1.,\n",
       "       1., 1., 1., 1., 0., 1., 1., 1., 1., 0., 1., 1., 1., 1., 1., 0., 1.,\n",
       "       1., 0., 1., 1., 1., 1., 0., 0., 0., 1., 1., 1., 1., 1., 1., 0., 1.,\n",
       "       1., 1., 1.])"
      ]
     },
     "execution_count": 41,
     "metadata": {},
     "output_type": "execute_result"
    }
   ],
   "source": [
    "y_pred= model_3.predict(x_test)\n",
    "y_pred"
   ]
  },
  {
   "cell_type": "code",
   "execution_count": 42,
   "metadata": {},
   "outputs": [
    {
     "data": {
      "text/plain": [
       "0.8571428571428571"
      ]
     },
     "execution_count": 42,
     "metadata": {},
     "output_type": "execute_result"
    }
   ],
   "source": [
    "model_3.score(x_train,y_train)"
   ]
  },
  {
   "cell_type": "code",
   "execution_count": 43,
   "metadata": {},
   "outputs": [
    {
     "data": {
      "text/plain": [
       "0.15625"
      ]
     },
     "execution_count": 43,
     "metadata": {},
     "output_type": "execute_result"
    }
   ],
   "source": [
    "from sklearn.metrics import r2_score\n",
    "r2_score(y_test, y_pred)"
   ]
  },
  {
   "cell_type": "code",
   "execution_count": 44,
   "metadata": {},
   "outputs": [
    {
     "name": "stdout",
     "output_type": "stream",
     "text": [
      "Slope : [[0.16826071 0.08474438 0.07196242 1.15599084]]\n"
     ]
    }
   ],
   "source": [
    "print('Slope :', model_3.coef_)"
   ]
  },
  {
   "cell_type": "code",
   "execution_count": 45,
   "metadata": {},
   "outputs": [
    {
     "name": "stdout",
     "output_type": "stream",
     "text": [
      "y_intercept: [-20.26346966]\n"
     ]
    }
   ],
   "source": [
    "print('y_intercept:', model_3.intercept_)"
   ]
  },
  {
   "cell_type": "code",
   "execution_count": 46,
   "metadata": {},
   "outputs": [],
   "source": [
    "import statsmodels.formula.api as smf"
   ]
  },
  {
   "cell_type": "code",
   "execution_count": 47,
   "metadata": {},
   "outputs": [
    {
     "name": "stdout",
     "output_type": "stream",
     "text": [
      "Optimization terminated successfully.\n",
      "         Current function value: 0.322049\n",
      "         Iterations 8\n"
     ]
    },
    {
     "data": {
      "text/html": [
       "<table class=\"simpletable\">\n",
       "<caption>Logit Regression Results</caption>\n",
       "<tr>\n",
       "  <th>Dep. Variable:</th>        <td>placed</td>      <th>  No. Observations:  </th>  <td>   215</td>  \n",
       "</tr>\n",
       "<tr>\n",
       "  <th>Model:</th>                 <td>Logit</td>      <th>  Df Residuals:      </th>  <td>   210</td>  \n",
       "</tr>\n",
       "<tr>\n",
       "  <th>Method:</th>                 <td>MLE</td>       <th>  Df Model:          </th>  <td>     4</td>  \n",
       "</tr>\n",
       "<tr>\n",
       "  <th>Date:</th>            <td>Fri, 10 Jul 2020</td> <th>  Pseudo R-squ.:     </th>  <td>0.4809</td>  \n",
       "</tr>\n",
       "<tr>\n",
       "  <th>Time:</th>                <td>00:47:42</td>     <th>  Log-Likelihood:    </th> <td> -69.240</td> \n",
       "</tr>\n",
       "<tr>\n",
       "  <th>converged:</th>             <td>True</td>       <th>  LL-Null:           </th> <td> -133.39</td> \n",
       "</tr>\n",
       "<tr>\n",
       "  <th>Covariance Type:</th>     <td>nonrobust</td>    <th>  LLR p-value:       </th> <td>9.039e-27</td>\n",
       "</tr>\n",
       "</table>\n",
       "<table class=\"simpletable\">\n",
       "<tr>\n",
       "       <td></td>         <th>coef</th>     <th>std err</th>      <th>z</th>      <th>P>|z|</th>  <th>[0.025</th>    <th>0.975]</th>  \n",
       "</tr>\n",
       "<tr>\n",
       "  <th>Intercept</th>  <td>  -20.1266</td> <td>    3.209</td> <td>   -6.271</td> <td> 0.000</td> <td>  -26.417</td> <td>  -13.836</td>\n",
       "</tr>\n",
       "<tr>\n",
       "  <th>ssc_p</th>      <td>    0.1414</td> <td>    0.031</td> <td>    4.609</td> <td> 0.000</td> <td>    0.081</td> <td>    0.202</td>\n",
       "</tr>\n",
       "<tr>\n",
       "  <th>hsc_p</th>      <td>    0.0813</td> <td>    0.029</td> <td>    2.822</td> <td> 0.005</td> <td>    0.025</td> <td>    0.138</td>\n",
       "</tr>\n",
       "<tr>\n",
       "  <th>degree_p</th>   <td>    0.0950</td> <td>    0.040</td> <td>    2.353</td> <td> 0.019</td> <td>    0.016</td> <td>    0.174</td>\n",
       "</tr>\n",
       "<tr>\n",
       "  <th>experience</th> <td>    1.6502</td> <td>    0.547</td> <td>    3.016</td> <td> 0.003</td> <td>    0.578</td> <td>    2.723</td>\n",
       "</tr>\n",
       "</table>"
      ],
      "text/plain": [
       "<class 'statsmodels.iolib.summary.Summary'>\n",
       "\"\"\"\n",
       "                           Logit Regression Results                           \n",
       "==============================================================================\n",
       "Dep. Variable:                 placed   No. Observations:                  215\n",
       "Model:                          Logit   Df Residuals:                      210\n",
       "Method:                           MLE   Df Model:                            4\n",
       "Date:                Fri, 10 Jul 2020   Pseudo R-squ.:                  0.4809\n",
       "Time:                        00:47:42   Log-Likelihood:                -69.240\n",
       "converged:                       True   LL-Null:                       -133.39\n",
       "Covariance Type:            nonrobust   LLR p-value:                 9.039e-27\n",
       "==============================================================================\n",
       "                 coef    std err          z      P>|z|      [0.025      0.975]\n",
       "------------------------------------------------------------------------------\n",
       "Intercept    -20.1266      3.209     -6.271      0.000     -26.417     -13.836\n",
       "ssc_p          0.1414      0.031      4.609      0.000       0.081       0.202\n",
       "hsc_p          0.0813      0.029      2.822      0.005       0.025       0.138\n",
       "degree_p       0.0950      0.040      2.353      0.019       0.016       0.174\n",
       "experience     1.6502      0.547      3.016      0.003       0.578       2.723\n",
       "==============================================================================\n",
       "\"\"\""
      ]
     },
     "execution_count": 47,
     "metadata": {},
     "output_type": "execute_result"
    }
   ],
   "source": [
    "model_4= smf.logit(formula=\"placed ~ ssc_p + hsc_p + degree_p + experience\", data= data3).fit()\n",
    "model_4.summary()"
   ]
  },
  {
   "cell_type": "markdown",
   "metadata": {},
   "source": [
    "# Model Fitting"
   ]
  },
  {
   "cell_type": "markdown",
   "metadata": {},
   "source": [
    "## I. Confusion Matrix"
   ]
  },
  {
   "cell_type": "code",
   "execution_count": 48,
   "metadata": {},
   "outputs": [],
   "source": [
    "from sklearn.metrics import confusion_matrix"
   ]
  },
  {
   "cell_type": "code",
   "execution_count": 49,
   "metadata": {},
   "outputs": [
    {
     "data": {
      "text/plain": [
       "array([[14,  8],\n",
       "       [ 3, 29]], dtype=int64)"
      ]
     },
     "execution_count": 49,
     "metadata": {},
     "output_type": "execute_result"
    }
   ],
   "source": [
    "confusion_matrix(y_test, y_pred)"
   ]
  },
  {
   "cell_type": "markdown",
   "metadata": {},
   "source": [
    "## II. Computation of Precision, Recall, F- measure and Support"
   ]
  },
  {
   "cell_type": "code",
   "execution_count": 50,
   "metadata": {},
   "outputs": [
    {
     "name": "stdout",
     "output_type": "stream",
     "text": [
      "              precision    recall  f1-score   support\n",
      "\n",
      "         0.0       0.82      0.64      0.72        22\n",
      "         1.0       0.78      0.91      0.84        32\n",
      "\n",
      "    accuracy                           0.80        54\n",
      "   macro avg       0.80      0.77      0.78        54\n",
      "weighted avg       0.80      0.80      0.79        54\n",
      "\n"
     ]
    }
   ],
   "source": [
    "from sklearn.metrics import classification_report\n",
    "print(classification_report(y_test, y_pred))"
   ]
  },
  {
   "cell_type": "markdown",
   "metadata": {},
   "source": [
    "## III. ROC Curve"
   ]
  },
  {
   "cell_type": "code",
   "execution_count": 51,
   "metadata": {},
   "outputs": [
    {
     "data": {
      "image/png": "[encoded data removed]",
      "text/plain": [
       "<Figure size 432x288 with 1 Axes>"
      ]
     },
     "metadata": {
      "needs_background": "light"
     },
     "output_type": "display_data"
    }
   ],
   "source": [
    "from sklearn.metrics import roc_auc_score\n",
    "from sklearn.metrics import roc_curve\n",
    "logit_roc_auc = roc_auc_score(y_test, model_3.predict(x_test))\n",
    "fpr, tpr, thresholds = roc_curve(y_test, model_3.predict_proba(x_test)[:,1])\n",
    "plt.figure()\n",
    "plt.plot(fpr, tpr, label='Logistic Regression (area = %0.2f)' % logit_roc_auc)\n",
    "plt.plot([0, 1], [0, 1],'r--')\n",
    "plt.xlim([-0.05, 1.0])\n",
    "plt.ylim([0.00, 1.05])\n",
    "plt.xlabel('False Positive Rate')\n",
    "plt.ylabel('True Positive Rate')\n",
    "plt.title('Receiver operating characteristic')\n",
    "plt.legend(loc=\"lower right\")\n",
    "plt.savefig('Log_ROC')\n",
    "plt.show()"
   ]
  },
  {
   "cell_type": "code",
   "execution_count": null,
   "metadata": {},
   "outputs": [],
   "source": []
  },
  {
   "cell_type": "code",
   "execution_count": null,
   "metadata": {},
   "outputs": [],
   "source": []
  },
  {
   "cell_type": "code",
   "execution_count": null,
   "metadata": {},
   "outputs": [],
   "source": []
  },
  {
   "cell_type": "code",
   "execution_count": null,
   "metadata": {},
   "outputs": [],
   "source": []
  },
  {
   "cell_type": "code",
   "execution_count": null,
   "metadata": {},
   "outputs": [],
   "source": []
  },
  {
   "cell_type": "code",
   "execution_count": null,
   "metadata": {},
   "outputs": [],
   "source": []
  }
 ],
 "metadata": {
  "kernelspec": {
   "display_name": "Python 3",
   "language": "python",
   "name": "python3"
  },
  "language_info": {
   "codemirror_mode": {
    "name": "ipython",
    "version": 3
   },
   "file_extension": ".py",
   "mimetype": "text/x-python",
   "name": "python",
   "nbconvert_exporter": "python",
   "pygments_lexer": "ipython3",
   "version": "3.7.6"
  }
 },
 "nbformat": 4,
 "nbformat_minor": 4
}
